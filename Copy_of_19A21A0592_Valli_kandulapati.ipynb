{
  "nbformat": 4,
  "nbformat_minor": 0,
  "metadata": {
    "colab": {
      "name": "Copy of 19A21A0592-Valli kandulapati ",
      "provenance": [],
      "collapsed_sections": [],
      "authorship_tag": "ABX9TyMDCPaB5lZBqK4MTpCdSUvj",
      "include_colab_link": true
    },
    "kernelspec": {
      "name": "python3",
      "display_name": "Python 3"
    },
    "language_info": {
      "name": "python"
    }
  },
  "cells": [
    {
      "cell_type": "markdown",
      "metadata": {
        "id": "view-in-github",
        "colab_type": "text"
      },
      "source": [
        "<a href=\"https://colab.research.google.com/github/Valli-kandulapati/python-lab-/blob/main/Copy_of_19A21A0592_Valli_kandulapati.ipynb\" target=\"_parent\"><img src=\"https://colab.research.google.com/assets/colab-badge.svg\" alt=\"Open In Colab\"/></a>"
      ]
    },
    {
      "cell_type": "markdown",
      "metadata": {
        "id": "gEJDV0QKUkT9"
      },
      "source": [
        "Name:kandulapati L S S N Valli Devi \n",
        "Regno:19A21A0592\n",
        " \n",
        "Branch:CSE-B\n",
        " \n",
        "Subject: python"
      ]
    },
    {
      "cell_type": "markdown",
      "metadata": {
        "id": "iIkVIrn-AN51"
      },
      "source": [
        " EXCERSICE-1\n",
        " \n",
        " A.WRITE PROGRAM IN INTERACTIVE,INTERPRETER,PYHON SCRIPT \n",
        "\n",
        "Aim: To write a program in interactive, interpreter,python script \n",
        "\n",
        " \n",
        "DESCRIPTION:\n",
        "Python is a high-level, interpreted, interactive and object-oriented scripting language. Python is \n",
        "designed to be highly readable. It uses English keywords frequently where as other languages \n",
        "use punctuation, and it has fewer syntactical constructions than other languages.\n",
        "Python is Interpreted \n",
        "Python is Interactive\n",
        "Python is Object-Oriented\n",
        "Python is a Beginner's Language\n",
        "Python Programming Running Python Scripts\n",
        "Running Python in THREE ways:\n",
        "a) Running Python Interpreter\n",
        "b) Running Python Scripts in IDLE\n",
        "c) Running python scripts in Command Prompt\n",
        "a) Running Python Interpreter: Python comes with an interactive interpreter. When you type \n",
        "python in your shell or command prompt, the python interpreter becomes active with a >>> \n",
        "prompt and waits for your commands\n",
        "b) Running Python Scripts in IDLE: . Go to File menu click on New File (CTRL+N) and write the \n",
        "code and save first.py\n",
        "c) Running python scripts in Command Prompt: ** **bold text · Before going to run we have to \n",
        "check the PATH in environment variables."
      ]
    },
    {
      "cell_type": "code",
      "metadata": {
        "colab": {
          "base_uri": "https://localhost:8080/"
        },
        "id": "rYeINt5YARkN",
        "outputId": "6218aeae-bd6f-4629-9929-540dfa45667d"
      },
      "source": [
        " \n",
        "#1A.\n",
        "a=28\n",
        "b=19\n",
        "a,b=b,a\n",
        "print(a,b)"
      ],
      "execution_count": null,
      "outputs": [
        {
          "output_type": "stream",
          "text": [
            "19 28\n"
          ],
          "name": "stdout"
        }
      ]
    },
    {
      "cell_type": "markdown",
      "metadata": {
        "id": "EdQTPZ8ZN9np"
      },
      "source": [
        " Aim:\n",
        " \n",
        "b) Write a program to purposefully raise Indentation Error and Correct it\n",
        " \n",
        "DESCRIPTION:\n",
        "Indentation\n",
        "Python does not support braces to indicate blocks of code for class and function \n",
        "definitions or flow control.\n",
        "Blocks of code are denoted by line indentation.\n",
        "All the continuous lines indented with same number of spaces would form a block. \n",
        "Python strictly follow indentation rules to indicate the blocks."
      ]
    },
    {
      "cell_type": "code",
      "metadata": {
        "colab": {
          "base_uri": "https://localhost:8080/",
          "height": 163
        },
        "id": "auXt16NQAeBp",
        "outputId": "c11d83c4-d89a-49fa-c298-031a5b4ebb00"
      },
      "source": [
        " \n",
        "#1B.WITH INDENTATION ERROR\n",
        "x=23\n",
        "if x%2 == 0:\n",
        "print(x,\" is even\")\n",
        "else:\n",
        "  print(x,\" is odd\")"
      ],
      "execution_count": null,
      "outputs": [
        {
          "output_type": "error",
          "ename": "IndentationError",
          "evalue": "ignored",
          "traceback": [
            "\u001b[0;36m  File \u001b[0;32m\"<ipython-input-2-c357dadb88b8>\"\u001b[0;36m, line \u001b[0;32m5\u001b[0m\n\u001b[0;31m    print(x,\" is even\")\u001b[0m\n\u001b[0m        ^\u001b[0m\n\u001b[0;31mIndentationError\u001b[0m\u001b[0;31m:\u001b[0m expected an indented block\n"
          ]
        }
      ]
    },
    {
      "cell_type": "code",
      "metadata": {
        "colab": {
          "base_uri": "https://localhost:8080/"
        },
        "id": "8aW_cQ7nApR0",
        "outputId": "481c6960-40db-4a74-9507-5814c87a58b1"
      },
      "source": [
        " \n",
        "#1B.ABOVE PROGRAM WITHOUT INDENTATION ERROR\n",
        "x=23\n",
        "if x%2 == 0:\n",
        "  print(x,\" is divisible by 2\")\n",
        "else:\n",
        "  print(x,\" is not divisible by 2\")"
      ],
      "execution_count": null,
      "outputs": [
        {
          "output_type": "stream",
          "text": [
            "23  is not divisible by 2\n"
          ],
          "name": "stdout"
        }
      ]
    },
    {
      "cell_type": "markdown",
      "metadata": {
        "id": "Nf5J_S9jA0Ty"
      },
      "source": [
        " EXERCISE-2\n",
        " \n",
        "A.COMPUTE DISTANCE BETWEEN TWO POINTS\n",
        " \n",
        "AIM:\n",
        "a) Write a program to compute distance between two points taking input from \n",
        "the user(PythagoreanTheorem)\n",
        "\n",
        "DESCRIPTION:\n",
        "\n",
        "Taking Input From the User: A function is defined as a block of organized, reusable code used to \n",
        "perform a single, related action. Python has many built-in functions; you can also create your \n",
        "own.\n",
        "Python has an input function which lets you ask a user for some text input. You call this function \n",
        "to tell the program to stop and wait for the user to key in the data.\n",
        "In Python 2, you have a built-in function raw_input(), whereas in Python 3, you have input(). The \n",
        "program will resume once the user presses the ENTER or RETURN key.\n",
        "Input Function\n",
        "input(prompt=None,/).\n",
        "Read a string from standard input. The trailing newline is stripped.\n",
        "The prompt string, if given, is printed to standard output without a trailing newline before reading \n",
        "input.\n",
        "If the user hits EOF (*nix: Ctrl-D, Windows: Ctrl Z+Return), raise EOFError."
      ]
    },
    {
      "cell_type": "code",
      "metadata": {
        "colab": {
          "base_uri": "https://localhost:8080/"
        },
        "id": "VsocT-mNA3Js",
        "outputId": "7d65729f-e83d-4ef7-f09d-0b3dafca8577"
      },
      "source": [
        " \n",
        "#2A.\n",
        "import math\n",
        "x1=int(input(\"enter  x1 value:\"))\n",
        "x2=int(input(\"enter  x2 value:\"))\n",
        "y1=int(input(\"enter  y1 value:\"))\n",
        "y2=int(input(\"enter  y2 value:\"))\n",
        "z=math.sqrt((x2-x1)**2+(y2-y1)**2)\n",
        "print(\"the distance between two points is :\",z)"
      ],
      "execution_count": null,
      "outputs": [
        {
          "output_type": "stream",
          "text": [
            "enter  x1 value:4\n",
            "enter  x2 value:5\n",
            "enter  y1 value:7\n",
            "enter  y2 value:4\n",
            "the distance between two points is : 3.1622776601683795\n"
          ],
          "name": "stdout"
        }
      ]
    },
    {
      "cell_type": "markdown",
      "metadata": {
        "id": "eIPI1jojO_Af"
      },
      "source": [
        "• \n",
        " \n",
        " AIM:\n",
        "b) Write a program add.py that takes 2 numbers as command line arguments and prints its sum\n",
        " \n",
        "DESCRIPTION:\n",
        " \n",
        "The arguments that are given after the name of the program in the command line shell of \n",
        "the operating system are known as Command Line Arguments. Python provides various \n",
        "ways of dealing with these types of arguments. The three most common are:\n",
        "Using sys.argv \n",
        "Using getopt module\n",
        "Using argparse module \n",
        "Using sys.argv\n",
        "The sys module provides functions and variables used to manipulate different parts of the \n",
        "Python runtime environment. This module provides access to some variables used or\n",
        "maintained by the interpreter and to functions that interact strongly with the interpreter. \n",
        "One such variable is sys.argv which is a simple list structure. It’s main purpose are:\n",
        "\n",
        "•It is a list of command line arguments.\n",
        "\n",
        "•len(sys.argv) provides the number of command line arguments.\n",
        "\n",
        "•sys.argv[0] is the name of the current Python script"
      ]
    },
    {
      "cell_type": "code",
      "metadata": {
        "id": "FBx8LMgNBWlq"
      },
      "source": [
        " \n",
        "#2B.\n",
        "import sys\n",
        "a=int(sys.argv[1])\n",
        "b=int(sys.argv[2])\n",
        " \n",
        "summ=a+b\n",
        " \n",
        "print(\"summ of two number is:\",summ)"
      ],
      "execution_count": null,
      "outputs": []
    },
    {
      "cell_type": "markdown",
      "metadata": {
        "id": "FP564FKtBYVg"
      },
      "source": [
        " EXCERSCISE-3\n",
        " \n",
        "A) WRITE A PROGRAM FOR CHECKING WHETHER THE GIVEN NUMBER IS AN EVEN NUMBER OR NOT.\n",
        " \n",
        "AIM: \n",
        "To write a Program for checking whether the given number is an even number or not.\n",
        " \n",
        "DESCRIPTION: if..else Statement When there is an alternate operation in control flow, use an else statement alongside with if statement. The general format is if condition: else: false statement"
      ]
    },
    {
      "cell_type": "code",
      "metadata": {
        "colab": {
          "base_uri": "https://localhost:8080/"
        },
        "id": "jFqMgEisBgOA",
        "outputId": "47eccf53-e6bc-4f53-8047-1c0daaa030f0"
      },
      "source": [
        " \n",
        "#3A.\n",
        "n=int(input(\"enter a number:\"))\n",
        "if (n%2)==0:\n",
        "      print(\"given number is even\")\n",
        "else:\n",
        "      print(\"given number is odd\")"
      ],
      "execution_count": null,
      "outputs": [
        {
          "output_type": "stream",
          "text": [
            "enter a number:7\n",
            "given number is odd\n"
          ],
          "name": "stdout"
        }
      ]
    },
    {
      "cell_type": "markdown",
      "metadata": {
        "id": "Yk3duAnO6Nlu"
      },
      "source": [
        " \n",
        "b) Using a for loop, write a program that prints out the decimal equivalents of 1/2, 1/3, 1/4, . . .1/10\n",
        " \n",
        "Aim:\n",
        "To using a for loop, write a program that prints out the decimal equivalents of 1/2, 1/3, 1/4, . . .1/10\n",
        "\n",
        "DESCRIPTION\n",
        "For Loop: For loops can iterate over a sequence of numbers using the \"range\" and \"xrange\" functions. The difference between range and xrange is that the range function returns a new list with numbers of that specified range, whereas xrange returns an iterator, which is more eficient. The general format is for x in range(start,stop,step): statements"
      ]
    },
    {
      "cell_type": "code",
      "metadata": {
        "colab": {
          "base_uri": "https://localhost:8080/"
        },
        "id": "3ZQLjWrqCdbu",
        "outputId": "bbe9affd-28a9-48a1-c796-b86113495c7d"
      },
      "source": [
        " \n",
        "#3B.\n",
        "n=int(input(\"enter a number:\"))\n",
        "for i in range(2,n):\n",
        "    de=1/i;\n",
        "    print(\"1/\",i,\"=\",de)"
      ],
      "execution_count": null,
      "outputs": [
        {
          "output_type": "stream",
          "text": [
            "enter a number:5\n",
            "1/ 2 = 0.5\n",
            "1/ 3 = 0.3333333333333333\n",
            "1/ 4 = 0.25\n"
          ],
          "name": "stdout"
        }
      ]
    },
    {
      "cell_type": "markdown",
      "metadata": {
        "id": "79XY8Xim89Dq"
      },
      "source": [
        " \n",
        "c) Write a program using a for loop that loops over a sequence. What is sequence?\n",
        " \n",
        "Aim:To write a program using a for loop that loops over a sequence. What is sequence?\n",
        " \n",
        "DESCRIPTION: For Loop: For loops can iterate over a sequence of numbers using the \"range\" and \"xrange\" functions. The difference between range and xrange is that the range function returns a new list with numbers of that specified range, whereas xrange returns an iterator, which is more eficient. The general format is for x in range(start,stop,step): statements\n",
        "\n",
        "PROGRAM"
      ]
    },
    {
      "cell_type": "code",
      "metadata": {
        "colab": {
          "base_uri": "https://localhost:8080/"
        },
        "id": "oAoVZT6-Cozu",
        "outputId": "5ef7ae0d-33e8-476e-b96a-3eb6ba3efb45"
      },
      "source": [
        " \n",
        "#3C.\n",
        "#program using for that loops over a sequence\n",
        "print(\"loop sequence\")\n",
        "    \n",
        "arr=[34.5,55,'GEMS',True,'A']\n",
        "for x in arr:\n",
        "      print(x)"
      ],
      "execution_count": null,
      "outputs": [
        {
          "output_type": "stream",
          "text": [
            "loop sequence\n",
            "34.5\n",
            "55\n",
            "GEMS\n",
            "True\n",
            "A\n"
          ],
          "name": "stdout"
        }
      ]
    },
    {
      "cell_type": "markdown",
      "metadata": {
        "id": "k6lHe2d69dzp"
      },
      "source": [
        " \n",
        "D) Write a program using a while loop that asks the user for a number, and prints a countdownfrom that number to zero.\n",
        "\n",
        "Aim:To write a program using a while loop that asks the user for a number, and prints a countdownfrom that number to zero.\n",
        "\n",
        "\n",
        "DESCRIPTION: While Loop is used to execute a block of statements repeatedly until a given condition is satisfied. And when the condition becomes false, the line immediately after the loop in the program is executed. While loop falls under the category of indefinite iteration The syntax for a while loop is: while [ condition]"
      ]
    },
    {
      "cell_type": "code",
      "metadata": {
        "colab": {
          "base_uri": "https://localhost:8080/"
        },
        "id": "POVjhsTaCxBr",
        "outputId": "fd104c19-72da-4c70-f848-bde566471f14"
      },
      "source": [
        " \n",
        "#3D.\n",
        "#countdown seq\n",
        "n=int(input(\"enter the numbr:\"))\n",
        "while n>=0:\n",
        "      print(n)\n",
        "      n=n-1"
      ],
      "execution_count": null,
      "outputs": [
        {
          "output_type": "stream",
          "text": [
            "enter the numbr:7\n",
            "7\n",
            "6\n",
            "5\n",
            "4\n",
            "3\n",
            "2\n",
            "1\n",
            "0\n"
          ],
          "name": "stdout"
        }
      ]
    },
    {
      "cell_type": "markdown",
      "metadata": {
        "id": "JHv6UpdDC0-W"
      },
      "source": [
        " EXCERCISE-4 \n",
        " \n",
        "A) FIND THE SUM OF ALL THE PRIMES BELOW TWO MILLION\n",
        " \n",
        "AIM: To find the sum of all the primes below two million. Each new term in the Fibonacci sequence is generated by adding the previous two terms. Bystarting with 1 and 2, the first 10 terms will be: 1, 2, 3, 5, 8, 13, 21, 34, 55, 89, ...\n",
        " \n",
        " \n",
        " \n",
        " DESCRIPTION: A Fibonacci sequence is the integer sequence of 0, 1, 1, 2, 3, 5, 8.... The first two terms are 0 and 1. All other terms are obtained by adding the preceding two terms. This means to say the nth term is the sum of (n-1)th and (n-2)th term Here, we store the number of terms in nterms. We initialize the first term to 0 and the second term to 1. If the number of terms is more than 2, we use a while loop to find the next term in the sequence by adding the preceding two terms. We then interchange the variables (update it) and continue on with the process.\n",
        "\n",
        "\n",
        "PROGRAM:"
      ]
    },
    {
      "cell_type": "code",
      "metadata": {
        "id": "PKNItI-aVeQ1"
      },
      "source": [
        " \n",
        "#4A.\n",
        "n=int(input(\"enter a number:\"))\n",
        " \n",
        "st=\"\"\n",
        "summ=0\n",
        " \n",
        "for i in range(2,n):\n",
        " state=True\n",
        " for j in range(2,i):\n",
        "  if(i%j==0):\n",
        "        state=False\n",
        "        break;\n",
        " if state==True:\n",
        "            st+=\" \"+str(i)\n",
        "            summ+=i\n",
        " \n",
        "print(\"prime numbers: \")\n",
        "print(st)\n",
        "print(\"sum of all prime nums:\",summ)"
      ],
      "execution_count": null,
      "outputs": []
    },
    {
      "cell_type": "markdown",
      "metadata": {
        "id": "OUbHaRD5_FL7"
      },
      "source": [
        " AIM:\n",
        "\n",
        "b) By considering the terms in the Fibonacci sequence whose values do not exceed four \n",
        "million,find the sum of the even-valued terms.\n",
        "\n",
        "DESCRIPTION:\n",
        "A Fibonacci sequence is the integer sequence of 0, 1, 1, 2, 3, 5, 8....\n",
        "The first two terms are 0 and 1. All other terms are obtained by adding the preceding two terms. \n",
        "This means to say the nth term is the sum of (n-1)th and (n-2)th term\n",
        "Here, we store the number of terms in nterms. We initialize the first term to 0 and the second \n",
        "term to 1.\n",
        "If the number of terms is more than 2, we use a while loop to find the next term in the sequence \n",
        "by adding the preceding two terms. We then interchange the variables (update it) and continue \n",
        "on with the process."
      ]
    },
    {
      "cell_type": "code",
      "metadata": {
        "colab": {
          "base_uri": "https://localhost:8080/"
        },
        "id": "v7tPFAgdED87",
        "outputId": "f7852f90-2cea-4e04-f34d-8afaf4fc3d2b"
      },
      "source": [
        " \n",
        "#4B.\n",
        "n=int(input(\"enter a num:\"))\n",
        "a=0\n",
        "b=1\n",
        "c=a+b\n",
        "sum=0\n",
        " \n",
        "print(\"even numbers in fibonnacci series is:\",end='')\n",
        "while c<=n:\n",
        "    if c%2==0:\n",
        "      print(c,end=' ')\n",
        "      sum+=c        \n",
        "    a=b\n",
        "    b=c \n",
        "    c=a+b\n",
        "print(\"\\nsum of fibonnacci series is:\",sum)"
      ],
      "execution_count": null,
      "outputs": [
        {
          "output_type": "stream",
          "text": [
            "enter a num:7\n",
            "even numbers in fibonnacci series is:2 \n",
            "sum of fibonnacci series is: 2\n"
          ],
          "name": "stdout"
        }
      ]
    },
    {
      "cell_type": "markdown",
      "metadata": {
        "id": "atRoPxxnER-e"
      },
      "source": [
        " EXCERCISE-5:DS\n",
        "\n",
        " \n",
        "A) WRITE A PROGRAM TO COUNT THE NUMBERS OF CHARACTERS IN THE STRING AND STORE THEM IN A DICTIONARY DATA STRUCTURE\n",
        " \n",
        "Aim:\n",
        "a) Write a program to count the numbers of characters in the string and store them in \n",
        "adictionary data structure\n",
        " \n",
        "DESCRIPTION:\n",
        "Given a string, the task is to find the frequencies of all the characters in that string and return a \n",
        "dictionary with key as the character and its value as its frequency in the given string.\n",
        "Method #1 : Naive method\n",
        "Simply iterate through the string and form a key in dictionary of newly occurred element or if \n",
        "element is already occurred, increase its value by 1.\n",
        "Method #2 : Using collections.Counter()\n",
        "The most suggested method that could be used to find all occurrences is this method, this \n",
        "actually gets all element frequency and could also be used to print single element frequency if \n",
        "required.\n",
        "PROGRAM:"
      ]
    },
    {
      "cell_type": "code",
      "metadata": {
        "colab": {
          "base_uri": "https://localhost:8080/"
        },
        "id": "aILoHmYNE5if",
        "outputId": "b3e5e555-821d-40ba-ee21-53681e31db65"
      },
      "source": [
        " \n",
        "#5A.\n",
        "name=input(\"enter a name:\")\n",
        "dic={}\n",
        "for ch in name:\n",
        "    keys=dic.keys()\n",
        " \n",
        "    if(ch in keys):\n",
        "        dic[ch]=dic[ch]+1\n",
        "    else:\n",
        "        dic[ch]=1\n",
        " \n",
        "print(\"dictionarry is:\",dic)"
      ],
      "execution_count": null,
      "outputs": [
        {
          "output_type": "stream",
          "text": [
            "enter a name:Abhi\n",
            "dictionarry is: {'A': 1, 'b': 1, 'h': 1, 'i': 1}\n"
          ],
          "name": "stdout"
        }
      ]
    },
    {
      "cell_type": "markdown",
      "metadata": {
        "id": "mqB__BVAAnJ6"
      },
      "source": [
        " AIM:\n",
        "b) Write a program to use split and join methods in the string and trace a birthday with \n",
        "adictionary data structure\n",
        "\n",
        "DESCRIPTION:\n",
        "Python program to Split a string based on a delimiter and join the string using another delimiter.\n",
        "Split a string can be quite useful sometimes, especially when you need only certain parts of \n",
        "strings. A simple yet effective example is splitting the First-name and Last-name of a person.\n",
        "Another application is CSV(Comma Separated Files). We use split to get data from CSV and join \n",
        "to write data to CSV.\n",
        "In Python, we can use the function split() to split a string and \n",
        "join() to join a string.\n",
        "\n",
        "PROGRAM"
      ]
    },
    {
      "cell_type": "code",
      "metadata": {
        "id": "F3dbSu6yFrQP"
      },
      "source": [
        " \n",
        "#5B.\n",
        "dob={\"sam\":\"19-05-2008\",\"sandy\":\"14-04-2002\"}\n",
        "name=input(\"enter which person dob u want:\")\n",
        "l=name.split()\n",
        "birth=\"\"\n",
        "for i in l:\n",
        "    if i in dob.keys():\n",
        "        pers=i\n",
        " \n",
        "print(\"\".join([pers,\" birthday is:\",dob[pers]]))"
      ],
      "execution_count": null,
      "outputs": []
    },
    {
      "cell_type": "markdown",
      "metadata": {
        "id": "m1CHnkPCFtE2"
      },
      "source": [
        " EXERCISE-6 :DS - CONTINUED\n",
        " \n",
        "A) WRITE A PROGRAM COMBINELISTS THAT COMBINES THESE LISTS INTO A DICTIONARY.\n",
        " \n",
        "AIM:\n",
        "a) To Write a program combinelists that combines these lists into a dictionary.\n",
        "\n",
        " \n",
        "Description:\n",
        "\n",
        "For this, simply declare a dictionary, and then run nested loop for both the lists and assign key \n",
        "and value pairs to from list values to dictionary.\n",
        "Most pythonic and generic method to perform this very task is by using zip(). This function pairs \n",
        "the list element with other list element at corresponding index in form of key-value pairs"
      ]
    },
    {
      "cell_type": "code",
      "metadata": {
        "colab": {
          "base_uri": "https://localhost:8080/"
        },
        "id": "ipvr4rckFxLM",
        "outputId": "7b566e7e-88ce-46d3-8e36-c1b5c1453124"
      },
      "source": [
        " \n",
        "#6A.\n",
        "sub=[\"daa\",\"os\",\"dbms\",\"p&s\",\"ppl\",\"se\"]\n",
        "marks=[85,97,65,65,83,56]\n",
        "print(sub)\n",
        "print(marks)\n",
        "dic=dict(zip(sub,marks))\n",
        "print(dic)"
      ],
      "execution_count": null,
      "outputs": [
        {
          "output_type": "stream",
          "text": [
            "['daa', 'os', 'dbms', 'p&s', 'ppl', 'se']\n",
            "[85, 97, 65, 65, 83, 56]\n",
            "{'daa': 85, 'os': 97, 'dbms': 65, 'p&s': 65, 'ppl': 83, 'se': 56}\n"
          ],
          "name": "stdout"
        }
      ]
    },
    {
      "cell_type": "markdown",
      "metadata": {
        "id": "0sKEm2UxBW39"
      },
      "source": [
        " AIM:\n",
        "\n",
        "b) Write a program to count frequency of characters in a given file. Can you use\n",
        "characterfrequency to tell whether the given file is a Python program file, C program file or a text \n",
        "file?\n",
        "\n",
        "\n",
        "DESCRIPTION:\n",
        "approaches to count the number of times a letter appears in a text file in Python. \n",
        "Method 1: Using the in-built count() method."
      ]
    },
    {
      "cell_type": "code",
      "metadata": {
        "id": "rGYH6JdlGHEQ"
      },
      "source": [
        " \n",
        "#6B.\n",
        "filetypes=['.py','.c','.txt']\n",
        "fn=input(\"enter a file name:\")\n",
        "f=open(fn,\"r\")\n",
        "count=dict()\n",
        "for  ft in filetypes:\n",
        "     if(ft in  fn):\n",
        "           if(ft==\".py\"):\n",
        "             print(\"python file\")\n",
        "           elif(ft==\".c\"):\n",
        "             print(\"cfile\")\n",
        "           elif(ft==\".txt\"):\n",
        "             print(\"text file\")\n",
        " \n",
        " \n",
        "for line in f:\n",
        "     for ch in line:\n",
        "          if ch in count:\n",
        "               count[ch]=count[ch]+1\n",
        " \n",
        "          else:\n",
        "              count[ch]=1\n",
        " \n",
        " \n",
        "print(count)\n",
        "f.close()"
      ],
      "execution_count": null,
      "outputs": []
    },
    {
      "cell_type": "markdown",
      "metadata": {
        "id": "eyDwCHN-LS4T"
      },
      "source": [
        " EXCERCISE-7:FILES\n",
        " \n",
        "A) WRITE A PROGRAM TO PRINT EACH LINE OF A FILE IN REVERSE ORDER.\n",
        "\n",
        "\n",
        "AIM:\n",
        "a) Write a program to print each line of a file in reverse order.\n",
        "\n",
        "\n",
        "DESCRIPTION:\n",
        "The file handling plays an important role when the data needs to be stored permanently into the \n",
        "file. A file is a named location on disk to store related information. We can access the stored\n",
        "information (non-volatile) after the program termination. In Python, files are treated in two \n",
        "modes as text or binary. The file may be in the text or binary format, and each line of a file is \n",
        "ended with the special character. Hence, a file operation can be done in the following order.\n",
        "□ Open a file\n",
        "□ Read or write - Performing operation\n",
        "□ Close the file"
      ]
    },
    {
      "cell_type": "code",
      "metadata": {
        "id": "B8-nc5tLLgNX"
      },
      "source": [
        " \n",
        "#7A.\n",
        "obj=open(\"sam.txt\",\"r\")\n",
        "if obj:\n",
        "    st=obj.read()\n",
        "    print(\"file content is:\")\n",
        "obj.close()\n",
        "print()\n",
        "lines=st.split('\\n')\n",
        "for ln in lines:\n",
        "    i=len(ln)-1\n",
        "    while(i>=0):\n",
        "      print(ln[i],end='')\n",
        "      i=i-1\n",
        "    print()"
      ],
      "execution_count": null,
      "outputs": []
    },
    {
      "cell_type": "markdown",
      "metadata": {
        "id": "vlXbmBnsB1AC"
      },
      "source": [
        " AIM:\n",
        "\n",
        "b) Write a program to compute the number of characters, words and lines in a file\n",
        " \n",
        "\n",
        "DESCRIPTION:\n",
        "Given a text file fname, the task is to count the total number of characters, words, spaces and \n",
        "lines in the file.\n",
        "As we know, Python provides multiple in-built features and modules for handling files. Let’s\n",
        "discuss different ways to calculate total number of characters, words, spaces and lines in a file \n",
        "using Python.\n",
        "Method #1: Naive approach\n",
        "In this approach, the idea is to solve the task by developing our own logic. Without using any \n",
        "built-in function of Python, the total number of characters, words, spaces and lines of the file will \n",
        "be calculated.\n",
        "Method #2: Using some built-in functions and OS module functions\n",
        "In this approach, the idea is to use the os.linesep() method of OS module to separate the lines \n",
        "on the current platform. When the interpreter’s scanner encounter os.linesep it replaces it with\n",
        "\\n character. After that strip() and split() functions will be used to carry out the task."
      ]
    },
    {
      "cell_type": "code",
      "metadata": {
        "id": "rZCZRf4sLhk_"
      },
      "source": [
        " \n",
        "#7B.\n",
        "obj=open(\"sam.txt\",\"r\")\n",
        "if obj:\n",
        "    st=obj.read()\n",
        "    print(\"file content is:\")\n",
        "obj.close()\n",
        "print()\n",
        "nc=nw=nl=0\n",
        "for ch in st:\n",
        "    if(ch):\n",
        "        nc=nc+1\n",
        "    if(ch==''):\n",
        "        nw=nw+1\n",
        "    if(ch=='\\n'):\n",
        "        nl=nl+1\n",
        " \n",
        "print(\"number of characters in a file:\",nc)\n",
        "print(\"number of words in file is:\",nw)\n",
        "print(\"number of lines ins file:\",nl)"
      ],
      "execution_count": null,
      "outputs": []
    },
    {
      "cell_type": "markdown",
      "metadata": {
        "id": "nDRBtKGhLmvT"
      },
      "source": [
        " EXCERCISE-8\n",
        " \n",
        "FUNCTIONS\n",
        " \n",
        "A) WRITE A FUNCTION BALL COLLIDE THAT TAKES TWO BALLS AS PARAMETERS AND COMPUTES IF THEY ARECOLLIDING. YOUR FUNCTION SHOULD RETURN A BOOLEAN REPRESENTING WHETHER OR NOT THE BALLS ARECOLLIDING. HINT: REPRESENT A BALL ON A PLANE AS A TUPLE OF (X, Y, R), R BEING THE RADIUS IF (DISTANCE BETWEEN TWO BALLS CENTERS) <= (SUM OF THEIR RADII) THEN (THEY ARE COLLIDING\n",
        "\n",
        "AIM:\n",
        "\n",
        "b) Write a program to compute the number of characters, words and lines in a file\n",
        "\n",
        "\n",
        "DESCRIPTION:\n",
        "Given a text file fname, the task is to count the total number of characters, words, spaces and \n",
        "lines in the file.\n",
        "As we know, Python provides multiple in-built features and modules for handling files. Let’s\n",
        "discuss different ways to calculate total number of characters, words, spaces and lines in a file \n",
        "using Python.\n",
        "Method #1: Naive approach\n",
        "In this approach, the idea is to solve the task by developing our own logic. Without using any \n",
        "built-in function of Python, the total number of characters, words, spaces and lines of the file will \n",
        "be calculated.\n",
        "Method #2: Using some built-in functions and OS module functions\n",
        "In this approach, the idea is to use the os.linesep() method of OS module to separate the lines \n",
        "on the current platform. When the interpreter’s scanner encounter os.linesep it replaces it with\n",
        "\\n character. After that strip() and split() functions will be used to carry out the task."
      ]
    },
    {
      "cell_type": "code",
      "metadata": {
        "colab": {
          "base_uri": "https://localhost:8080/"
        },
        "id": "TpaBFrgYLqV4",
        "outputId": "f7078cc4-4344-431e-d0a1-f949b21b15d8"
      },
      "source": [
        " \n",
        "#8A.\n",
        "import math\n",
        "def ballcollide(b1tup,b2tup):\n",
        "    x1=b1tup[0]\n",
        "    y1=b1tup[1]\n",
        "    x2=b2tup[0]\n",
        "    y2=b2tup[1]\n",
        "    r1=b1tup[2]\n",
        "    r2=b2tup[2]\n",
        " \n",
        " \n",
        "    d=math.sqrt((x2-x1)*2+(y2-y1)*2)\n",
        "    if(d<=r1+r2):\n",
        "      return True\n",
        "    else:\n",
        "        return False\n",
        " \n",
        " \n",
        "ball1=(1,2,3)\n",
        "ball2=(3,2,1)\n",
        "c=ballcollide(ball1,ball2)\n",
        "if(c):\n",
        "    print(\"balls are collided\")\n",
        "else:\n",
        "    print(\"ball are not collided\")"
      ],
      "execution_count": null,
      "outputs": [
        {
          "output_type": "stream",
          "text": [
            "balls are collided\n"
          ],
          "name": "stdout"
        }
      ]
    },
    {
      "cell_type": "markdown",
      "metadata": {
        "id": "6qqmkWw5C5lq"
      },
      "source": [
        " AIM:\n",
        " \n",
        "b) Find mean, median, mode for the given set of numbers in a list\n",
        " \n",
        " \n",
        "DESCRIPTION\n",
        "Mean : The mean is the average of all numbers and is sometimes called the arithmetic mean. \n",
        "This code calculates Mean or Average of a list containing numbers:\n",
        "Median : The median is the middle number in a group of numbers. This code calculates Median \n",
        "of a list containing numbers:\n",
        "Mode : The mode is the number that occurs most often within a set of numbers. This code \n",
        "calculates Mode of a list containing numbers:\n",
        "We will import Counter from collections library which is a built-in module in Python 2 and 3. This \n",
        "module will help us count duplicate elements in a list. We define a list of numbers and calculate \n",
        "the length of the list. We then call Counter (a dict subclass) which helps to count hashable \n",
        "objects, and we then convert it to dict object. We then initialize a list with a For Loop to compare \n",
        "all the dict values (Number of elements) to the max of all dict values (count of most occurring \n",
        "element) and it returns all the elements equal to max count. If the elements returned are equal to \n",
        "the number of total elements in a list then we print out ‘No mode’, else we print out the modes \n",
        "returned.\n",
        " \n",
        "PROGRAM:"
      ]
    },
    {
      "cell_type": "code",
      "metadata": {
        "id": "KwhY1PD8L9Yd"
      },
      "source": [
        " \n",
        "#8B.\n",
        "def list_mean(num_list):\n",
        "   return sum(num_list)/len(num_list)\n",
        " \n",
        "def list_median(num_list):\n",
        "    num_list.sort()\n",
        "    n=len(num_list)\n",
        "    mid=n//2\n",
        "    if(n%2==1):\n",
        "        return num_list[mid]\n",
        "    else:\n",
        "        return (num_list[mid-1]+num_list[mid])/2\n",
        " \n",
        "def list_mode(num_list):\n",
        "    num_list.sort()\n",
        "    temp=[]\n",
        " \n",
        "    i=0\n",
        "    while i<len(num_list):\n",
        "        temp.append(num_list.count(num_list[i]))\n",
        "        i+=1\n",
        " \n",
        "    dic=dict(zip(num_list,temp))\n",
        "    mode={k for (k,v) in dic.items() if v==max(temp)}\n",
        "    return mode\n",
        " \n",
        "lst=[1,1,2,2,2,3,4,5,3]\n",
        " \n",
        "print(\"mean of given list:\",list_mean(lst))\n",
        "print(\"median of given list:\",list_median(lst))\n",
        "print(\"mode of given list:\",list_mode(lst))"
      ],
      "execution_count": null,
      "outputs": []
    },
    {
      "cell_type": "markdown",
      "metadata": {
        "id": "8Q58q83xL-lD"
      },
      "source": [
        " EXERCISE - 9:FUNCTIONS - CONTINUED\n",
        " \n",
        "A) WRITE A FUNCTION NEARLY EQUAL TO TEST WHETHER TWO STRINGS ARE NEARLY EQUAL. TWO STRINGS A AND BARE NEARLY EQUAL WHEN A CAN BE GENERATED BY A SINGLE MUTATION ON B.\n",
        " \n",
        "AIM:\n",
        " \n",
        "a) Write a function nearly equal to test whether two strings are nearly\n",
        "\n",
        "DESCRIPTION:\n",
        "strlen() function is used to check wether the two string are nearly equal or not by basis of the \n",
        "Length of those Strings"
      ]
    },
    {
      "cell_type": "code",
      "metadata": {
        "colab": {
          "base_uri": "https://localhost:8080/"
        },
        "id": "3YgBUARLMB0d",
        "outputId": "1b1ff829-603b-413d-e6e6-b727123e07e7"
      },
      "source": [
        " \n",
        "#9A.\n",
        "def nearlyeq(str1,str2):\n",
        "    count=0\n",
        "    i=j=0\n",
        "    ss=0\n",
        "    while(i<len(str1)and j<len(str2)):\n",
        "        if(str1[i]!=str2[j]):\n",
        "            count+=1\n",
        "        if(len(str1)>len(str2)):\n",
        "            i+=1\n",
        " \n",
        "        elif(len(str1)==len(str2)):\n",
        "            pass\n",
        "        else:\n",
        "            i-=1     \n",
        "        if(count>1):\n",
        "             ss-=1\n",
        "             \n",
        "        i+=1\n",
        "        j+=1\n",
        "        if(count<2):\n",
        "             ss+=1\n",
        " \n",
        "    return ss\n",
        "s1=input(\"enter a string 1:\")\n",
        "s2=input(\"enter the string2:\")\n",
        "t=nearlyeq(s1,s2)\n",
        "if(t>1):\n",
        "    print(\"neraly equal0\")\n",
        "else:\n",
        "    print(\"not nearly equal\")"
      ],
      "execution_count": null,
      "outputs": [
        {
          "output_type": "stream",
          "text": [
            "enter a string 1:Stress brust\n",
            "enter the string2:Stress brust\n",
            "neraly equal0\n"
          ],
          "name": "stdout"
        }
      ]
    },
    {
      "cell_type": "markdown",
      "metadata": {
        "id": "eFVcgNo4Ed_6"
      },
      "source": [
        " AIM:\n",
        "\n",
        "b) Write a function dup to find all duplicates in the list.\n",
        "\n",
        "\n",
        "DESCRIPTION:\n",
        "To check if a list contains any duplicate element follow the following steps,\n",
        "1. Add the contents of list in a set\n",
        "As set contains only unique elements, so no duplicates will be added the the set.\n",
        "2. Compare the size of set and list.\n",
        "If size of list & set is equal then it means no duplicates in list.\n",
        "3. If size of list & set are different then it means yes, there are duplicates in lis"
      ]
    },
    {
      "cell_type": "code",
      "metadata": {
        "colab": {
          "base_uri": "https://localhost:8080/"
        },
        "id": "XtU7CEUrNO10",
        "outputId": "c3e939cf-5452-44c4-f24f-dd4aa890f6e1"
      },
      "source": [
        " \n",
        "#9B.\n",
        "def dup(list):\n",
        "  list1=[]\n",
        "  for i in list:\n",
        "    count=list.count(i)\n",
        "    if(count>1 and (i not in list1)):\n",
        "        list1.append(i)\n",
        "        \n",
        "  print(\"the dups in the list are:\",list1)        \n",
        "list2=[1,2,1,2]\n",
        " \n",
        "dup(list2)"
      ],
      "execution_count": null,
      "outputs": [
        {
          "output_type": "stream",
          "text": [
            "the dups in the list are: [1, 2]\n"
          ],
          "name": "stdout"
        }
      ]
    },
    {
      "cell_type": "markdown",
      "metadata": {
        "id": "vbuyoFqZE3pZ"
      },
      "source": [
        " AIM:\n",
        " \n",
        "c) Write a function unique to find all the unique elements of a list.\n",
        " \n",
        "DESCRIPTION:\n",
        "To find the unique in the list .There is a Specific Method i.e., \n",
        "Method : Traversal of list\n",
        "Using traversal, we can traverse for every element in the list and check if the element is in the \n",
        "unique_list already if it is not over there, then we can append it in the unique_list.\n",
        "This is done using one for loop and other if statement which check if the value is in the unique \n",
        "list or not which is equivalent to another for loop.\n",
        " \n",
        "PROGRAM:"
      ]
    },
    {
      "cell_type": "code",
      "metadata": {
        "colab": {
          "base_uri": "https://localhost:8080/"
        },
        "id": "grt3Vyl8NbUy",
        "outputId": "178af5ee-5dd3-4ead-b9cc-cc5695d667de"
      },
      "source": [
        " \n",
        "#9C.\n",
        "def unique(list1):\n",
        "  list2={}\n",
        " \n",
        "  for i in list1:\n",
        "    c=list1.count(i)\n",
        "    if c==1:\n",
        "      list2[i]=c\n",
        "  print(\"the unique elements in the list are:\",list2)\n",
        " \n",
        "list=[1,2,3,45,45,6,88,88,9]\n",
        "unique(list)"
      ],
      "execution_count": null,
      "outputs": [
        {
          "output_type": "stream",
          "text": [
            "the unique elements in the list are: {1: 1, 2: 1, 3: 1, 6: 1, 9: 1}\n"
          ],
          "name": "stdout"
        }
      ]
    },
    {
      "cell_type": "markdown",
      "metadata": {
        "id": "ec-owXSHNduc"
      },
      "source": [
        " EXERCISE - 10 \n",
        " \n",
        "FUNCTIONS - PROBLEM SOLVING\n",
        " \n",
        "A) WRITE A FUNCTION CUMULATIVE PRODUCT TO COMPUTE CUMULATIVE PRODUCT OF A LIST OF NUMBERS.\n",
        "\n",
        "\n",
        "AIM:\n",
        "a) Write a function cumulative product to compute cumulative product of a list of numbers.\n",
        "\n",
        "DESCRIPTION:\n",
        "A cumulative product is a sequence of partial products of a given sequence. For example, the \n",
        "cumulative products of the sequence. , are , , .. Cumulative products can be implemented in the \n",
        "Wolfram Language as Rest[FoldList[Times, 1, list]]\n",
        "cumprod(A,1) works on successive elements in the columns of A and returns the \n",
        "cumulative products of each column. cumprod(A,2) works on successive elements in the \n",
        "rows of A and returns the cumulative products of each row.\n",
        "umprod() function is used when we want to compute the cumulative product of array elements \n",
        "over a given axis. Syntax : numpy.cumprod(arr, axis=None, dtype=None, out=None) Parameters : \n",
        "arr : [array_like] Array containing numbers whose cumulative product is desired."
      ]
    },
    {
      "cell_type": "code",
      "metadata": {
        "colab": {
          "base_uri": "https://localhost:8080/"
        },
        "id": "zooxGtsWNioZ",
        "outputId": "28d3a092-9b75-49b1-9113-4400b4ded964"
      },
      "source": [
        " \n",
        "#10A:\n",
        "def cumulative_product(list1,n):\n",
        "    list2=[]\n",
        "    i=0\n",
        "    list2.append(list1[i])\n",
        "    for i in range(1,n):\n",
        "        v=list1[i]*list2[i-1]\n",
        "        list2.append(v)\n",
        "        \n",
        "    print(list2)\n",
        "list3=[]\n",
        "n=int(input(\"enter size :\"))\n",
        "print(\"enter the data:\")\n",
        "for i in range(0,n):\n",
        "    x=int(input())\n",
        "    list3.append(x)\n",
        "cumulative_product(list3,n)"
      ],
      "execution_count": null,
      "outputs": [
        {
          "output_type": "stream",
          "text": [
            "enter size :5\n",
            "enter the data:\n",
            "1\n",
            "2\n",
            "3\n",
            "4\n",
            "5\n",
            "[1, 2, 6, 24, 120]\n"
          ],
          "name": "stdout"
        }
      ]
    },
    {
      "cell_type": "markdown",
      "metadata": {
        "id": "6tsXpYdbFpSk"
      },
      "source": [
        " AIM:\n",
        "\n",
        "b) Write a function reverse to reverse a list. Without using the reverse function.\n",
        "\n",
        "DESCRIPTION:\n",
        "In this Python code snippet post, we are going to implement a list reverse function from the \n",
        "scratch without using any builtin functions.\n",
        "Let us see how… \n",
        "Iterative solution\n",
        "We can use a for loop to swap the first and last items, the second and the one before the last\n",
        "item and so on until the list is reversed in place. The number of iterations needed is half the list \n",
        "size. If the list has an odd number of items then the middle item will stay in its place"
      ]
    },
    {
      "cell_type": "code",
      "metadata": {
        "colab": {
          "base_uri": "https://localhost:8080/"
        },
        "id": "wNaYSqTlOEzL",
        "outputId": "26cdd78f-8057-4a73-caa2-8340b458db83"
      },
      "source": [
        " \n",
        "#10B.\n",
        "def reverse_list(numlist):\n",
        "    temp=list1[::-1]\n",
        "    numlist=temp\n",
        "    return temp\n",
        "list1=[1,2,3,4]\n",
        "print(\"giiven list is :\",list1)\n",
        "print(\"after reversing the list:\",reverse_list(list1))"
      ],
      "execution_count": null,
      "outputs": [
        {
          "output_type": "stream",
          "text": [
            "giiven list is : [1, 2, 3, 4]\n",
            "after reversing the list: [4, 3, 2, 1]\n"
          ],
          "name": "stdout"
        }
      ]
    },
    {
      "cell_type": "markdown",
      "metadata": {
        "id": "dkqs2GqPFypW"
      },
      "source": [
        " AIM:\n",
        " \n",
        "c) Write function to compute gcd, lcm of two numbers. Each function shouldn’t exceed one line.\n",
        " \n",
        "DESCRIPTION:\n",
        "\n",
        "Python provides you an anonymous function called lambda. It can take any number of \n",
        "arguments, but can only have one expression. It can be used to find LCM and GCD values \n",
        "without exceeding each from from one line.\n",
        "The general format is\n",
        "lambda arguments: expression\n",
        "The expression is executed during the function call and the result is returned.\n",
        "Lambda as a Function\n",
        "The power of using a lambda expression is implementing it using a function\n",
        "\n",
        "PROGRAM:"
      ]
    },
    {
      "cell_type": "code",
      "metadata": {
        "colab": {
          "base_uri": "https://localhost:8080/"
        },
        "id": "KsfdG03BONBv",
        "outputId": "771accc5-0aea-4d48-ead5-ebd80788e4d4"
      },
      "source": [
        " \n",
        "#10C:\n",
        "gcd=lambda a,b: a if b==0 else gcd(a,a%b)\n",
        "lcm=lambda a,b: (a*b)/gcd(a,b)\n",
        " \n",
        "x=4\n",
        "y=24\n",
        "print(\"gcd=\",gcd(x,y))\n",
        "print(\"lcm=\",lcm(x,y))"
      ],
      "execution_count": null,
      "outputs": [
        {
          "output_type": "stream",
          "text": [
            "gcd= 4\n",
            "lcm= 24.0\n"
          ],
          "name": "stdout"
        }
      ]
    },
    {
      "cell_type": "markdown",
      "metadata": {
        "id": "vbKybbMjOTvB"
      },
      "source": [
        " EXERCISE 11 - MULTI-D LISTS\n",
        " \n",
        "A) WRITE A PROGRAM THAT DEFINES A MATRIX AND PRINTS\n",
        "\n",
        "AIM:\n",
        "\n",
        "a) Write a program that defines a matrix and prints\n",
        "\n",
        "\n",
        "DESCRIPTION:\n",
        "Lists are a very widely use data structure in python. They contain a list of elements separated by \n",
        "comma. But sometimes lists can also contain lists within them. These are called nested lists or \n",
        "multidimensional lists. In this article we will see how to create and access elements in a\n",
        "multidimensional list.\n",
        "Methods on Multidimensional lists\n",
        "1. append(): Adds an element at the end of the list.\n",
        "2. extend(): Add the elements of a list (or any iterable), to the end of the current list.\n",
        "3. reverse(): Reverses the order of the list"
      ]
    },
    {
      "cell_type": "code",
      "metadata": {
        "colab": {
          "base_uri": "https://localhost:8080/"
        },
        "id": "OAdymhncOYY9",
        "outputId": "230d4eb2-c8cf-45e4-92ea-204ad9c9351c"
      },
      "source": [
        " \n",
        "#11A.\n",
        "matA=[[]]\n",
        "rows=int(input(\"enter no of rows\"))\n",
        "colms=int(input(\"enter colms\"))\n",
        "matA=[[int(input(\"enter  [%d,%d] value :\"%(i,j)))for j in range(colms)]for i in range(rows)]\n",
        "print(\"matrix is\\n\")\n",
        " \n",
        "for i in range(rows):\n",
        "  for j in range(colms):\n",
        "    print(matA[i][j],end=\"\\t\")\n",
        "  print()"
      ],
      "execution_count": null,
      "outputs": [
        {
          "output_type": "stream",
          "text": [
            "enter no of rows3\n",
            "enter colms3\n",
            "enter  [0,0] value :4\n",
            "enter  [0,1] value :5\n",
            "enter  [0,2] value :4\n",
            "enter  [1,0] value :7\n",
            "enter  [1,1] value :9\n",
            "enter  [1,2] value :7\n",
            "enter  [2,0] value :6\n",
            "enter  [2,1] value :8\n",
            "enter  [2,2] value :45\n",
            "matrix is\n",
            "\n",
            "4\t5\t4\t\n",
            "7\t9\t7\t\n",
            "6\t8\t45\t\n"
          ],
          "name": "stdout"
        }
      ]
    },
    {
      "cell_type": "markdown",
      "metadata": {
        "id": "u4_vZBdwG3OI"
      },
      "source": [
        " Aim:\n",
        "\n",
        "b) Write a program to perform addition of two square matrices\n",
        "\n",
        "DESCRIPTION:\n",
        "We can perform matrix addition in following ways in Python.\n",
        "1. Using for loop:\n",
        "Explanation :- In this program we have used nested for loops to iterate through each row and \n",
        "each column. At each point we add the corresponding elements in the two matrices and store it \n",
        "in the result.\n",
        "2. Using nested list comprehension :\n",
        "In Python, we can implement a matrix as nested list (list inside a list). We can treat each \n",
        "element as a row of the matrix.\n",
        "Explanation :-\n",
        "The output of this program is the same as above. We have used nested list comprehension to\n",
        "iterate through each element in the matrix. List comprehension allows us to write concise codes \n",
        "and we must try to use them frequently in Python. They are very helpful"
      ]
    },
    {
      "cell_type": "code",
      "metadata": {
        "colab": {
          "base_uri": "https://localhost:8080/"
        },
        "id": "CcAMygqxPIaR",
        "outputId": "3d7f4eab-c2a9-4ece-8902-15b0f82dc1d5"
      },
      "source": [
        " \n",
        "#11B.\n",
        "def mat_read(rows,cols):\n",
        "    mat=[[int(input(\"Enter the mat[%d,%d] value \"%(i,j)))for j in range(cols)]for i in range (rows)]\n",
        "    return mat\n",
        "def print_mat(rows,cols,mat):\n",
        "    for i in range(rows):\n",
        "        for j in range (cols):\n",
        "            print(mat[i][j],end='\\t')\n",
        "        print()\n",
        "    \n",
        "matA=[[]]\n",
        "matB=[[]]\n",
        "mat_sum=[[]]\n",
        " \n",
        " \n",
        "rows=int(input(\"Enter the row size \"))\n",
        "cols=int(input(\"Enter the column size \"))\n",
        " \n",
        "if(rows==cols):\n",
        "    print(\"For matrix A\")\n",
        "    matA=mat_read(rows,cols)\n",
        "    \n",
        "    print(\"For matrix B\")\n",
        "    matB=mat_read(rows,cols)\n",
        "    \n",
        "    mat_sum=[[matA[i][j]+matB[i][j] for j in range(cols)]for i in range (rows)]\n",
        " \n",
        "    print(\"Matrix A \")\n",
        "    print_mat(rows,cols,matA)\n",
        "    \n",
        "    print(\"Matrix B \")\n",
        "    print_mat(rows,cols,matB)\n",
        "    \n",
        "    print(\"Matrix A+B = \")\n",
        "    print_mat(rows,cols,mat_sum)\n",
        "else:\n",
        "    print(\"Matrix Addition is not possible\")"
      ],
      "execution_count": null,
      "outputs": [
        {
          "output_type": "stream",
          "text": [
            "Enter the row size 2\n",
            "Enter the column size 2\n",
            "For matrix A\n",
            "Enter the mat[0,0] value 4\n",
            "Enter the mat[0,1] value 5\n",
            "Enter the mat[1,0] value 7\n",
            "Enter the mat[1,1] value 4\n",
            "For matrix B\n",
            "Enter the mat[0,0] value 45\n",
            "Enter the mat[0,1] value 75\n",
            "Enter the mat[1,0] value 54\n",
            "Enter the mat[1,1] value 57\n",
            "Matrix A \n",
            "4\t5\t\n",
            "7\t4\t\n",
            "Matrix B \n",
            "45\t75\t\n",
            "54\t57\t\n",
            "Matrix A+B = \n",
            "49\t80\t\n",
            "61\t61\t\n"
          ],
          "name": "stdout"
        }
      ]
    },
    {
      "cell_type": "markdown",
      "metadata": {
        "id": "U-V4pGomHV-E"
      },
      "source": [
        " AIM:\n",
        "\n",
        "c) Write a program to perform multiplication of two square\n",
        "\n",
        "\n",
        "DESCRIPTION:\n",
        "In Python, we can implement a matrix as nested list (list inside a list). \n",
        "We can treat each element as a row of the matrix.\n",
        "For example X = [[1, 2], [4, 5], [3, 6]] would represent a 3x2 matrix.\n",
        "The first row can be selected as X[0]. And, the element in first row, first column can be selected \n",
        "as X[0][0].\n",
        "Multiplication of two matrices X and Y is defined only if the number of columns in X is equal to \n",
        "the number of rows Y.\n",
        "If X is a n x m matrix and Y is a m x l matrix then, XY is defined and has the dimension n x l (but \n",
        "YX is not defined). Here are a couple of ways to implement matrix multiplication in Python."
      ]
    },
    {
      "cell_type": "code",
      "metadata": {
        "colab": {
          "base_uri": "https://localhost:8080/"
        },
        "id": "U-61w9T8QRTW",
        "outputId": "b7e74111-e112-4f72-fb91-91ffb17dd6c0"
      },
      "source": [
        " \n",
        "#11C.\n",
        "def mat_read(rows,cols):\n",
        "    mat=[[int(input(\"Enter the mat[%d,%d] value \"%(i,j)))for j in range(cols)]for i in range (rows)]\n",
        "    return mat\n",
        "def print_mat(rows,cols,mat):\n",
        "    for i in range(rows):\n",
        "        for j in range (cols):\n",
        "            print(mat[i][j],end='\\t')\n",
        "        print()\n",
        "    \n",
        "matA=[[]]\n",
        "matB=[[]]\n",
        "mat_mul=[[]]\n",
        " \n",
        " \n",
        "rows=int(input(\"Enter the row size \"))\n",
        "cols=int(input(\"Enter the column size \"))\n",
        " \n",
        "if(rows==cols):\n",
        "    print(\"For matrix A\")\n",
        "    matA=mat_read(rows,cols)\n",
        "    \n",
        "    print(\"For matrix B\")\n",
        "    matB=mat_read(rows,cols)\n",
        "    \n",
        "    mat_mul=[[0 for j in range(cols)]for i in range (rows)]\n",
        " \n",
        "    for i in range (rows):\n",
        "        for j in range(cols):\n",
        "            for k in range(cols):\n",
        "                mat_mul[i][j]+=matA[i][k]*matB[k][j]\n",
        " \n",
        "    print(\"Matrix A \")\n",
        "    print_mat(rows,cols,matA)\n",
        "    \n",
        "    print(\"Matrix B \")\n",
        "    print_mat(rows,cols,matB)\n",
        "    \n",
        "    print(\"Matrix A*B = \")\n",
        "    print_mat(rows,cols,mat_mul)\n",
        "else:\n",
        "    print(\"Matrix multiplication is not possible\")"
      ],
      "execution_count": null,
      "outputs": [
        {
          "output_type": "stream",
          "text": [
            "Enter the row size 2\n",
            "Enter the column size 2\n",
            "For matrix A\n",
            "Enter the mat[0,0] value 3\n",
            "Enter the mat[0,1] value 45\n",
            "Enter the mat[1,0] value 32\n",
            "Enter the mat[1,1] value 78\n",
            "For matrix B\n",
            "Enter the mat[0,0] value 57\n",
            "Enter the mat[0,1] value 54\n",
            "Enter the mat[1,0] value 47\n",
            "Enter the mat[1,1] value 44\n",
            "Matrix A \n",
            "3\t45\t\n",
            "32\t78\t\n",
            "Matrix B \n",
            "57\t54\t\n",
            "47\t44\t\n",
            "Matrix A*B = \n",
            "2286\t2142\t\n",
            "5490\t5160\t\n"
          ],
          "name": "stdout"
        }
      ]
    },
    {
      "cell_type": "markdown",
      "metadata": {
        "id": "tiY_9cQ6QvRS"
      },
      "source": [
        " EXERCISE - 12 : MODULES\n",
        " \n",
        "A) INSTALL PACKAGES REQUESTS, FLASK AND EXPLORE THEM. USING (PIP)\n",
        " \n",
        " AIM:\n",
        " \n",
        "a) Install packages requests,flask and explore them using(pip)\n",
        " \n",
        "DESCRIPTION:\n",
        " \n",
        "Installing the pip Python package manager on Windows If you are on Windows, and your\n",
        "installed Python the current version, you already have pip! If your Python installation is not the \n",
        "most recent, the easiest thing to do is to simply reinstall it. Download the Python Windows\n",
        "installer at https://www.python.org/downloads/.\n",
        "In Windows, the variable that controls which programs are accessible from the command line is \n",
        "path. To modify your path to include Python and pip, we have to add C:\\Python27 and\n",
        "C:\\Python27\\Tools. Edit the Windows path by opening the Windows menu, right-clicking \n",
        "on Computer and clicking on Properties. Under Advanced system settings, click \n",
        "Environment Variables. Scroll down until you find Path, double-click it, and add\n",
        ";C:\\Python27;C:\\Python27\\Tools to the end.\n",
        "Installing packages:\n",
        "Suppose you want to install a package called requests (which is used to make HTTP requests). \n",
        "You need to issue the following command.\n",
        "pip install requests\n",
        "show installed packages\n",
        "You can use the following command to get information about a installed package, i.e Package \n",
        "name, version, location, dependencies.\n",
        "pip show package_name\n",
        "install flask\n",
        "On Mac and Linux, because you are installing programs outside the user-owned folders, you\n",
        "might have to prepend sudo to the install commands. To install Flask, simply run this:\n",
        "$ pip install flask\n",
        "show installed flask\n",
        "You can use the following command to get information about a installed flask, i.e Package \n",
        "name, version, location, dependencies\n",
        "$ pip show flask\n",
        "\n",
        "PROGRAM"
      ]
    },
    {
      "cell_type": "markdown",
      "metadata": {
        "id": "tuZfFZh4Q7zQ"
      },
      "source": [
        " #12A.\n",
        "The requests and flask packages are download from internet using the following commands.\n",
        " \n",
        "C:\\python3.9\\scripts>pip install requests\n",
        " \n",
        "C:\\python3.9\\scripts>pip show requests\n",
        " \n",
        "C:\\python3.9\\scripts>pip install flask\n",
        " \n",
        "C:\\python3.9\\scripts>pip show flask"
      ]
    },
    {
      "cell_type": "markdown",
      "metadata": {
        "id": "cvaH_1EXIR4f"
      },
      "source": [
        " AIM:\n",
        "\n",
        "b) Write a scripts that imports requests and fetch content from the page.Eg. (Wiki)code:\n",
        "\n",
        "DESCRIPTION:\n",
        "The Hypertext Transfer Protocol (HTTP) is an application protocol for distributed, collaborative, \n",
        "hypermedia information systems. HTTP is the foundation of data communication for the World \n",
        "Wide Web.\n",
        "Python requests\n",
        "Requests is a simple and elegant Python HTTP library. It provides methods for accessing Web \n",
        "resources via HTTP.\n",
        "Python requests reading a web page\n",
        "The get() method issues a GET request; it fetches documents identified by the given URL"
      ]
    },
    {
      "cell_type": "code",
      "metadata": {
        "colab": {
          "base_uri": "https://localhost:8080/"
        },
        "id": "RG-FGfGFQ-7J",
        "outputId": "10b301aa-b89d-457e-99f3-e0e5c23e002b"
      },
      "source": [
        " \n",
        "#12B.\n",
        "import requests\n",
        "r=requests.get('https://www.google.com')\n",
        "print(\"status coed:\",r.status_code)\n",
        "print(\"header content:\",r.headers['content-type'])\n",
        "print(r.text)"
      ],
      "execution_count": null,
      "outputs": [
        {
          "output_type": "stream",
          "text": [
            "status coed: 200\n",
            "header content: text/html; charset=ISO-8859-1\n",
            "<!doctype html><html itemscope=\"\" itemtype=\"http://schema.org/WebPage\" lang=\"en\"><head><meta content=\"Search the world's information, including webpages, images, videos and more. Google has many special features to help you find exactly what you're looking for.\" name=\"description\"><meta content=\"noodp\" name=\"robots\"><meta content=\"text/html; charset=UTF-8\" http-equiv=\"Content-Type\"><meta content=\"/images/branding/googleg/1x/googleg_standard_color_128dp.png\" itemprop=\"image\"><title>Google</title><script nonce=\"vfcjZtVupQc3iYLB42ureA==\">(function(){window.google={kEI:'hpL1YNaQGbyawbkPpJSqqAI',kEXPI:'0,772215,1,530320,56873,954,5105,206,4804,2316,383,246,5,1354,4936,314,1122516,1197760,523,328984,51224,16114,28684,17572,4859,1361,9291,3027,17581,4020,978,13228,3847,10622,1142,13386,4516,2778,919,5081,1593,1279,2212,530,149,1103,840,1983,4314,3514,606,2023,1777,520,14670,2269,1,957,1989,856,7,4811,7543,5096,7539,337,5037,1483,1925,907,2,941,15324,432,3,346,1244,1,5445,148,11323,2652,4,1528,2304,1242,5797,74,1983,2626,2015,4067,7434,3824,1011,2039,2658,4242,3115,30,15933,638,37,1457,5586,3772,5993,770,665,5827,2302,228,4094,19,3119,6,908,3,3541,1,5349,6594,2767,1,1813,283,38,874,5992,10618,1908,2,1394,756,746,1,22,1281,1715,2,3037,20,2538,1,2,2,3612,627,4,32,4,4762,625,4,683,442,342,254,56,4,434,2379,91,30,285,235,1165,616,1274,1075,3503,2050,1647,172,1002,1696,2,1,2,2131,717,3,310,730,1160,1269,43,1192,2190,3,1712,291,1440,33,906,1341,1,234,1144,3358,94,2,254,2,291,2,542,3,125,3922,48,1378,13,1447,2454,1,12,3,1,704,823,226,1897,229,429,1,8,64,1,8,23,2184,120,394,993,1,2,999,5,126,898,1510,109,316,471,84,325,142,4,7,410,332,57,101,190,1,148,416,328,923,223,57,350,7,1377,212,858,713,2258,242,38,368,107,82,3,1524,134,442,1088,521,5609134,3905,99,95,32,220,59,5996810,11,2800685,882,444,1,2,80,1,1796,1,9,2,2551,1,748,141,795,563,1,4265,1,1,2,1331,3299,843,2609,155,17,13,72,139,4,2,20,2,169,13,19,46,5,39,96,548,29,2,2,1,2,1,2,2,7,4,1,2,2,2,2,2,2,312,41,513,186,1,1,158,3,2,2,2,2,2,4,2,3,3,233,36,21,1874751,22079951,2772894,93132,1146350,26661,7,2307,338,3,2339,615,2249,259',kBL:'rUkx'};google.sn='webhp';google.kHL='en';})();(function(){\n",
            "var f=this||self;var h,k=[];function l(a){for(var b;a&&(!a.getAttribute||!(b=a.getAttribute(\"eid\")));)a=a.parentNode;return b||h}function m(a){for(var b=null;a&&(!a.getAttribute||!(b=a.getAttribute(\"leid\")));)a=a.parentNode;return b}\n",
            "function n(a,b,c,d,g){var e=\"\";c||-1!==b.search(\"&ei=\")||(e=\"&ei=\"+l(d),-1===b.search(\"&lei=\")&&(d=m(d))&&(e+=\"&lei=\"+d));d=\"\";!c&&f._cshid&&-1===b.search(\"&cshid=\")&&\"slh\"!==a&&(d=\"&cshid=\"+f._cshid);c=c||\"/\"+(g||\"gen_204\")+\"?atyp=i&ct=\"+a+\"&cad=\"+b+e+\"&zx=\"+Date.now()+d;/^http:/i.test(c)&&\"https:\"===window.location.protocol&&(google.ml&&google.ml(Error(\"a\"),!1,{src:c,glmm:1}),c=\"\");return c};h=google.kEI;google.getEI=l;google.getLEI=m;google.ml=function(){return null};google.log=function(a,b,c,d,g){if(c=n(a,b,c,d,g)){a=new Image;var e=k.length;k[e]=a;a.onerror=a.onload=a.onabort=function(){delete k[e]};a.src=c}};google.logUrl=n;}).call(this);(function(){\n",
            "google.y={};google.sy=[];google.x=function(a,b){if(a)var c=a.id;else{do c=Math.random();while(google.y[c])}google.y[c]=[a,b];return!1};google.sx=function(a){google.sy.push(a)};google.lm=[];google.plm=function(a){google.lm.push.apply(google.lm,a)};google.lq=[];google.load=function(a,b,c){google.lq.push([[a],b,c])};google.loadAll=function(a,b){google.lq.push([a,b])};google.bx=!1;google.lx=function(){};}).call(this);google.f={};(function(){\n",
            "document.documentElement.addEventListener(\"submit\",function(b){var a;if(a=b.target){var c=a.getAttribute(\"data-submitfalse\");a=\"1\"==c||\"q\"==c&&!a.elements.q.value?!0:!1}else a=!1;a&&(b.preventDefault(),b.stopPropagation())},!0);document.documentElement.addEventListener(\"click\",function(b){var a;a:{for(a=b.target;a&&a!=document.documentElement;a=a.parentElement)if(\"A\"==a.tagName){a=\"1\"==a.getAttribute(\"data-nohref\");break a}a=!1}a&&b.preventDefault()},!0);}).call(this);</script><style>#gbar,#guser{font-size:13px;padding-top:1px !important;}#gbar{height:22px}#guser{padding-bottom:7px !important;text-align:right}.gbh,.gbd{border-top:1px solid #c9d7f1;font-size:1px}.gbh{height:0;position:absolute;top:24px;width:100%}@media all{.gb1{height:22px;margin-right:.5em;vertical-align:top}#gbar{float:left}}a.gb1,a.gb4{text-decoration:underline !important}a.gb1,a.gb4{color:#00c !important}.gbi .gb4{color:#dd8e27 !important}.gbf .gb4{color:#900 !important}\n",
            "</style><style>body,td,a,p,.h{font-family:arial,sans-serif}body{margin:0;overflow-y:scroll}#gog{padding:3px 8px 0}td{line-height:.8em}.gac_m td{line-height:17px}form{margin-bottom:20px}.h{color:#1558d6}em{font-weight:bold;font-style:normal}.lst{height:25px;width:496px}.gsfi,.lst{font:18px arial,sans-serif}.gsfs{font:17px arial,sans-serif}.ds{display:inline-box;display:inline-block;margin:3px 0 4px;margin-left:4px}input{font-family:inherit}body{background:#fff;color:#000}a{color:#4b11a8;text-decoration:none}a:hover,a:active{text-decoration:underline}.fl a{color:#1558d6}a:visited{color:#4b11a8}.sblc{padding-top:5px}.sblc a{display:block;margin:2px 0;margin-left:13px;font-size:11px}.lsbb{background:#f8f9fa;border:solid 1px;border-color:#dadce0 #70757a #70757a #dadce0;height:30px}.lsbb{display:block}#WqQANb a{display:inline-block;margin:0 12px}.lsb{background:url(/images/nav_logo229.png) 0 -261px repeat-x;border:none;color:#000;cursor:pointer;height:30px;margin:0;outline:0;font:15px arial,sans-serif;vertical-align:top}.lsb:active{background:#dadce0}.lst:focus{outline:none}</style><script nonce=\"vfcjZtVupQc3iYLB42ureA==\"></script></head><body bgcolor=\"#fff\"><script nonce=\"vfcjZtVupQc3iYLB42ureA==\">(function(){var src='/images/nav_logo229.png';var iesg=false;document.body.onload = function(){window.n && window.n();if (document.images){new Image().src=src;}\n",
            "if (!iesg){document.f&&document.f.q.focus();document.gbqf&&document.gbqf.q.focus();}\n",
            "}\n",
            "})();</script><div id=\"mngb\"><div id=gbar><nobr><b class=gb1>Search</b> <a class=gb1 href=\"https://www.google.com/imghp?hl=en&tab=wi\">Images</a> <a class=gb1 href=\"https://maps.google.com/maps?hl=en&tab=wl\">Maps</a> <a class=gb1 href=\"https://play.google.com/?hl=en&tab=w8\">Play</a> <a class=gb1 href=\"https://www.youtube.com/?gl=US&tab=w1\">YouTube</a> <a class=gb1 href=\"https://news.google.com/?tab=wn\">News</a> <a class=gb1 href=\"https://mail.google.com/mail/?tab=wm\">Gmail</a> <a class=gb1 href=\"https://drive.google.com/?tab=wo\">Drive</a> <a class=gb1 style=\"text-decoration:none\" href=\"https://www.google.com/intl/en/about/products?tab=wh\"><u>More</u> &raquo;</a></nobr></div><div id=guser width=100%><nobr><span id=gbn class=gbi></span><span id=gbf class=gbf></span><span id=gbe></span><a href=\"http://www.google.com/history/optout?hl=en\" class=gb4>Web History</a> | <a  href=\"/preferences?hl=en\" class=gb4>Settings</a> | <a target=_top id=gb_70 href=\"https://accounts.google.com/ServiceLogin?hl=en&passive=true&continue=https://www.google.com/&ec=GAZAAQ\" class=gb4>Sign in</a></nobr></div><div class=gbh style=left:0></div><div class=gbh style=right:0></div></div><center><br clear=\"all\" id=\"lgpd\"><div id=\"lga\"><img alt=\"Google\" height=\"92\" src=\"/images/branding/googlelogo/1x/googlelogo_white_background_color_272x92dp.png\" style=\"padding:28px 0 14px\" width=\"272\" id=\"hplogo\"><br><br></div><form action=\"/search\" name=\"f\"><table cellpadding=\"0\" cellspacing=\"0\"><tr valign=\"top\"><td width=\"25%\">&nbsp;</td><td align=\"center\" nowrap=\"\"><input name=\"ie\" value=\"ISO-8859-1\" type=\"hidden\"><input value=\"en\" name=\"hl\" type=\"hidden\"><input name=\"source\" type=\"hidden\" value=\"hp\"><input name=\"biw\" type=\"hidden\"><input name=\"bih\" type=\"hidden\"><div class=\"ds\" style=\"height:32px;margin:4px 0\"><input class=\"lst\" style=\"margin:0;padding:5px 8px 0 6px;vertical-align:top;color:#000\" autocomplete=\"off\" value=\"\" title=\"Google Search\" maxlength=\"2048\" name=\"q\" size=\"57\"></div><br style=\"line-height:0\"><span class=\"ds\"><span class=\"lsbb\"><input class=\"lsb\" value=\"Google Search\" name=\"btnG\" type=\"submit\"></span></span><span class=\"ds\"><span class=\"lsbb\"><input class=\"lsb\" id=\"tsuid1\" value=\"I'm Feeling Lucky\" name=\"btnI\" type=\"submit\"><script nonce=\"vfcjZtVupQc3iYLB42ureA==\">(function(){var id='tsuid1';document.getElementById(id).onclick = function(){if (this.form.q.value){this.checked = 1;if (this.form.iflsig)this.form.iflsig.disabled = false;}\n",
            "else top.location='/doodles/';};})();</script><input value=\"AINFCbYAAAAAYPWglpk1rBXuDSX5EOWANNHzRAZpYC-V\" name=\"iflsig\" type=\"hidden\"></span></span></td><td class=\"fl sblc\" align=\"left\" nowrap=\"\" width=\"25%\"><a href=\"/advanced_search?hl=en&amp;authuser=0\">Advanced search</a></td></tr></table><input id=\"gbv\" name=\"gbv\" type=\"hidden\" value=\"1\"><script nonce=\"vfcjZtVupQc3iYLB42ureA==\">(function(){\n",
            "var a,b=\"1\";if(document&&document.getElementById)if(\"undefined\"!=typeof XMLHttpRequest)b=\"2\";else if(\"undefined\"!=typeof ActiveXObject){var c,d,e=[\"MSXML2.XMLHTTP.6.0\",\"MSXML2.XMLHTTP.3.0\",\"MSXML2.XMLHTTP\",\"Microsoft.XMLHTTP\"];for(c=0;d=e[c++];)try{new ActiveXObject(d),b=\"2\"}catch(h){}}a=b;if(\"2\"==a&&-1==location.search.indexOf(\"&gbv=2\")){var f=google.gbvu,g=document.getElementById(\"gbv\");g&&(g.value=a);f&&window.setTimeout(function(){location.href=f},0)};}).call(this);</script></form><div id=\"gac_scont\"></div><div style=\"font-size:83%;min-height:3.5em\"><br></div><span id=\"footer\"><div style=\"font-size:10pt\"><div style=\"margin:19px auto;text-align:center\" id=\"WqQANb\"><a href=\"/intl/en/ads/\">Advertising Programs</a><a href=\"/services/\">Business Solutions</a><a href=\"/intl/en/about.html\">About Google</a></div></div><p style=\"font-size:8pt;color:#70757a\">&copy; 2021 - <a href=\"/intl/en/policies/privacy/\">Privacy</a> - <a href=\"/intl/en/policies/terms/\">Terms</a></p></span></center><script nonce=\"vfcjZtVupQc3iYLB42ureA==\">(function(){window.google.cdo={height:757,width:1440};(function(){\n",
            "var a=window.innerWidth,b=window.innerHeight;if(!a||!b){var c=window.document,d=\"CSS1Compat\"==c.compatMode?c.documentElement:c.body;a=d.clientWidth;b=d.clientHeight}a&&b&&(a!=google.cdo.width||b!=google.cdo.height)&&google.log(\"\",\"\",\"/client_204?&atyp=i&biw=\"+a+\"&bih=\"+b+\"&ei=\"+google.kEI);}).call(this);})();</script> <script nonce=\"vfcjZtVupQc3iYLB42ureA==\">(function(){google.xjs={ck:'',cs:'',excm:[],pml:false};})();</script>  <script nonce=\"vfcjZtVupQc3iYLB42ureA==\">(function(){var u='/xjs/_/js/k\\x3dxjs.hp.en_US.uG5gNub4OSM.O/m\\x3dsb_he,d/am\\x3dAHgCLA/d\\x3d1/ed\\x3d1/rs\\x3dACT90oE5mpOHNMzK1ifCe0jZfTofWVvTxQ';\n",
            "var e=this||self,f=function(a){return a};var g;var l=function(a,b){this.g=b===h?a:\"\"};l.prototype.toString=function(){return this.g+\"\"};var h={};function m(){var a=u;google.lx=function(){n(a);google.lx=function(){}};google.bx||google.lx()}\n",
            "function n(a){google.timers&&google.timers.load&&google.tick&&google.tick(\"load\",\"xjsls\");var b=document;var c=\"SCRIPT\";\"application/xhtml+xml\"===b.contentType&&(c=c.toLowerCase());c=b.createElement(c);if(void 0===g){b=null;var k=e.trustedTypes;if(k&&k.createPolicy){try{b=k.createPolicy(\"goog#html\",{createHTML:f,createScript:f,createScriptURL:f})}catch(p){e.console&&e.console.error(p.message)}g=b}else g=b}a=(b=g)?b.createScriptURL(a):a;a=new l(a,h);c.src=a instanceof l&&a.constructor===l?a.g:\"type_error:TrustedResourceUrl\";var d;a=(c.ownerDocument&&c.ownerDocument.defaultView||window).document;(d=(a=null===(d=a.querySelector)||void 0===d?void 0:d.call(a,\"script[nonce]\"))?a.nonce||a.getAttribute(\"nonce\")||\"\":\"\")&&c.setAttribute(\"nonce\",d);document.body.appendChild(c);google.psa=!0};setTimeout(function(){m()},0);})();(function(){window.google.xjsu='/xjs/_/js/k\\x3dxjs.hp.en_US.uG5gNub4OSM.O/m\\x3dsb_he,d/am\\x3dAHgCLA/d\\x3d1/ed\\x3d1/rs\\x3dACT90oE5mpOHNMzK1ifCe0jZfTofWVvTxQ';})();function _DumpException(e){throw e;}\n",
            "function _F_installCss(c){}\n",
            "(function(){google.jl={attn:false,blt:'none',chnk:0,dw:false,emtn:0,end:0,ine:false,lls:'default',pdt:0,rep:0,snet:true,strt:0,ubm:false,uwp:true};})();(function(){var pmc='{\\x22d\\x22:{},\\x22sb_he\\x22:{\\x22agen\\x22:true,\\x22cgen\\x22:true,\\x22client\\x22:\\x22heirloom-hp\\x22,\\x22dh\\x22:true,\\x22dhqt\\x22:true,\\x22ds\\x22:\\x22\\x22,\\x22ffql\\x22:\\x22en\\x22,\\x22fl\\x22:true,\\x22host\\x22:\\x22google.com\\x22,\\x22isbh\\x22:28,\\x22jsonp\\x22:true,\\x22msgs\\x22:{\\x22cibl\\x22:\\x22Clear Search\\x22,\\x22dym\\x22:\\x22Did you mean:\\x22,\\x22lcky\\x22:\\x22I\\\\u0026#39;m Feeling Lucky\\x22,\\x22lml\\x22:\\x22Learn more\\x22,\\x22oskt\\x22:\\x22Input tools\\x22,\\x22psrc\\x22:\\x22This search was removed from your \\\\u003Ca href\\x3d\\\\\\x22/history\\\\\\x22\\\\u003EWeb History\\\\u003C/a\\\\u003E\\x22,\\x22psrl\\x22:\\x22Remove\\x22,\\x22sbit\\x22:\\x22Search by image\\x22,\\x22srch\\x22:\\x22Google Search\\x22},\\x22ovr\\x22:{},\\x22pq\\x22:\\x22\\x22,\\x22refpd\\x22:true,\\x22rfs\\x22:[],\\x22sbas\\x22:\\x220 3px 8px 0 rgba(0,0,0,0.2),0 0 0 1px rgba(0,0,0,0.08)\\x22,\\x22sbpl\\x22:16,\\x22sbpr\\x22:16,\\x22scd\\x22:10,\\x22stok\\x22:\\x22KMfddU0hdCWpc5B825BZwtvp5z4\\x22,\\x22uhde\\x22:false}}';google.pmc=JSON.parse(pmc);})();</script>        </body></html>\n"
          ],
          "name": "stdout"
        }
      ]
    },
    {
      "cell_type": "markdown",
      "metadata": {
        "id": "V4WgWWk9IcxG"
      },
      "source": [
        " AIM:\n",
        "\n",
        "c) Write a simple script that serves a simple HTTPResponse and Simple HTML page.\n",
        "\n",
        "DESCRIPTION:\n",
        "HTTP Protocol\n",
        "The most important part of a web server is HTTP protocol.So now we will see what exactly this \n",
        "is –\n",
        "It stands for Hyper Text Transfer Protocol.\n",
        "It is an application layer protocol that allows web based applications to communicate and \n",
        "exchange data.\n",
        "The HTTP is the messenger of web.\n",
        "The computer that communicate via the HTTP must speak the HTTP protocol. \n",
        "It is a TCP/IP based protocol.\n",
        "It is used to deliver contents, for eg. images, audios, videos, documents etc.\n",
        "Using HTTP is the most convenient way to quickly and reliably move data on the web.\n",
        "HTML stands for hypertext markup language. It is the standard markup language for web pages \n",
        "that define the structure of the content. These elements are the building blocks of any website"
      ]
    },
    {
      "cell_type": "code",
      "metadata": {
        "colab": {
          "base_uri": "https://localhost:8080/"
        },
        "id": "CQhMY5q9RSua",
        "outputId": "a1d75c16-b706-4b7c-feba-2a938723653a"
      },
      "source": [
        " \n",
        "#12C.\n",
        "from flask import Flask,render_template\n",
        "app=Flask(__name__)\n",
        "print(app)\n",
        "@app.route(\"/\")\n",
        "def main():\n",
        "  return render_template('login.html')\n",
        "  if __name__==\"__main__\":\n",
        "    app.run(host=\"127.0.0.1\",port=2500)"
      ],
      "execution_count": null,
      "outputs": [
        {
          "output_type": "stream",
          "text": [
            "<Flask '__main__'>\n"
          ],
          "name": "stdout"
        }
      ]
    },
    {
      "cell_type": "markdown",
      "metadata": {
        "id": "4aumxt06RZMr"
      },
      "source": [
        " EXERCISE - 13: OOP\n",
        " \n",
        "A)CLASS VARIABLES AND INSTANCE VARIABLE AND ILLUSTRATION OF THE SELF-VARIABLE\n",
        " \n",
        "AIM:\n",
        " \n",
        "a)class variables and instance variable and illustration of the self -variable\n",
        " \n",
        "DESCRIPTION:\n",
        "Variables are named storage location. In python variables are not defined by its type instead it \n",
        "will be automatically determined by the value assigned to it. To determine the type of a variable \n",
        "a function called type () is used.\n",
        "class variableis shared by all object instances of a class.....They are not defined inside any\n",
        "methods of a class. Because a class variable is shared by instances of a class, the Python class \n",
        "owns the variable. As a result, all instances of the class will be able to access that variable\n",
        "Instance variables are owned by instances of the class. This means that for each object or\n",
        "instance of a class, the instance variables are different..... Instance variables, owned by objects\n",
        "of the class, allow for each object or instance to have different values assigned to those \n",
        "variables\n",
        "self variable is used to bind the instance of the class to the instance method. We have to \n",
        "explicitly declare it as the first method argument to access the instance variables and methods. \n",
        "This variable is used only with the instance methods.\n",
        " \n",
        "I) ROBOT II) ATM MACHINE"
      ]
    },
    {
      "cell_type": "code",
      "metadata": {
        "colab": {
          "base_uri": "https://localhost:8080/"
        },
        "id": "LimyaDa1RbV-",
        "outputId": "9524bf10-3a98-4940-9ee3-38693886fa95"
      },
      "source": [
        " \n",
        "#13.i)\n",
        "class Robot:\n",
        "  what=\"machine\"\n",
        "  name=\"chitti\"\n",
        "  version=1.0\n",
        "  speed=\"1THz\"\n",
        "  memory=\"1ZB\"\n",
        " \n",
        "  def update(upd):\n",
        "    upd.version=2.0\n",
        "    upd.speed=\"2THz\"\n",
        "    memory=\"2ZB\"\n",
        " \n",
        "  def disp(self):\n",
        "    print(\"My self is a\",robj.what)\n",
        "    print(\"my name is a\",robj.name)\n",
        "    print(\"version:\",robj.version)\n",
        "    print(\"speed:\",robj.speed)\n",
        "    print(\"memory:\",robj.memory)\n",
        " \n",
        "robj=Robot()\n",
        "robj.disp()\n",
        "print(\"--------Update-----------\")\n",
        "robj.update()\n",
        "robj.disp()"
      ],
      "execution_count": null,
      "outputs": [
        {
          "output_type": "stream",
          "text": [
            "My self is a machine\n",
            "my name is a chitti\n",
            "version: 1.0\n",
            "speed: 1THz\n",
            "memory: 1ZB\n",
            "--------Update-----------\n",
            "My self is a machine\n",
            "my name is a chitti\n",
            "version: 2.0\n",
            "speed: 2THz\n",
            "memory: 1ZB\n"
          ],
          "name": "stdout"
        }
      ]
    },
    {
      "cell_type": "code",
      "metadata": {
        "colab": {
          "base_uri": "https://localhost:8080/"
        },
        "id": "ODtjVUydRplU",
        "outputId": "bae62507-8c4c-49d1-e804-8b1d15b71bb3"
      },
      "source": [
        " \n",
        "#13.ii)\n",
        "class ATM:\n",
        "  def __init__(self):\n",
        "    self.balance=0\n",
        "  \n",
        "  def enquire(self):\n",
        "    print(\"balance is:\",self.balance)\n",
        " \n",
        "  def deposit(self):\n",
        "    amount=int(input(\"enter amount to depposit:\"))\n",
        "    self.balance+=amount\n",
        "    self.enquire()\n",
        " \n",
        "  def withdraw(self):\n",
        "    amount=int(input(\"enter amount to withdraw:\"))\n",
        "    if self.balance<amount:\n",
        "      print(\"ammount is insufficient\")\n",
        "    else:\n",
        "      self.balance-=amount\n",
        "      self.enquire()\n",
        "obj=ATM()\n",
        "while(True):\n",
        "  print(\"****MENU*****\")\n",
        "  print(\"1.deposit\")\n",
        "  print(\"2.withdraw\")\n",
        "  print(\"3.Balance\")\n",
        "  print(\"0.exit\")\n",
        "  ch=int(input(\"enter your choice\"))\n",
        "  if ch==0:\n",
        "    break\n",
        "  elif ch==1:\n",
        "    obj.deposit()\n",
        "  elif ch==2:\n",
        "    obj.withdraw()\n",
        "  elif ch==3:\n",
        "    obj.enquire()\n",
        "  else:\n",
        "    print(\"ivalid option\")\n",
        "    pass"
      ],
      "execution_count": null,
      "outputs": [
        {
          "output_type": "stream",
          "text": [
            "****MENU*****\n",
            "1.deposit\n",
            "2.withdraw\n",
            "3.Balance\n",
            "0.exit\n",
            "enter your choice1\n",
            "enter amount to depposit:3000\n",
            "balance is: 3000\n",
            "****MENU*****\n",
            "1.deposit\n",
            "2.withdraw\n",
            "3.Balance\n",
            "0.exit\n",
            "enter your choice2\n",
            "enter amount to withdraw:5000\n",
            "ammount is insufficient\n",
            "****MENU*****\n",
            "1.deposit\n",
            "2.withdraw\n",
            "3.Balance\n",
            "0.exit\n",
            "enter your choice3\n",
            "balance is: 3000\n",
            "****MENU*****\n",
            "1.deposit\n",
            "2.withdraw\n",
            "3.Balance\n",
            "0.exit\n",
            "enter your choice2000\n",
            "ivalid option\n",
            "****MENU*****\n",
            "1.deposit\n",
            "2.withdraw\n",
            "3.Balance\n",
            "0.exit\n",
            "enter your choice0\n"
          ],
          "name": "stdout"
        }
      ]
    },
    {
      "cell_type": "markdown",
      "metadata": {
        "id": "Twcb5aYjSO0Y"
      },
      "source": [
        " EXERCISE - 14 :GUI, GRAPHICS\n",
        "________________________________________\n",
        "A. WRITE A GUI FOR AN EXPRESSION CALCULATOR USING TK\n",
        "\n",
        "Aim:\n",
        "a. Write a GUI for an Expression Calculator using tk\n",
        "\n",
        "DESCRIPTION:\n",
        "Tkinter is a Python package which comes with many functions and methods that can be used to \n",
        "create an application. In order to create a tkinter application, we generally create an instance of \n",
        "tkinter frame, i.e., Tk(). It helps to display the root window and manages all the other \n",
        "components of the tkinter application. We can initialize the tkinter instance by assigning the \n",
        "variable to it.\n",
        "PROGRAM:\n",
        "________________________________________"
      ]
    },
    {
      "cell_type": "code",
      "metadata": {
        "id": "KKqZwR0kSeRv"
      },
      "source": [
        " \n",
        "#14A.\n",
        "from tkinter import *\n",
        " \n",
        "win = Tk() # to create a basic window\n",
        "win.geometry(\"312x324\")  #for the size of the window \n",
        "win.resizable(0, 0)  # to prevent from resizing the window\n",
        "win.title(\"Calculator\")\n",
        " \n",
        "# 'btn_click' Function continuously updates the \n",
        "# input field whenever you enters a number\n",
        " \n",
        "def btn_click(item):\n",
        "    global expression\n",
        "    expression = expression + str(item)\n",
        "    input_text.set(expression)\n",
        " \n",
        "# 'bt_clear' function : used to clear the input field\n",
        " \n",
        "def bt_clear(): \n",
        "    global expression \n",
        "    expression = \"\" \n",
        "    input_text.set(\"\")\n",
        " \n",
        "# 'bt_equal':calculates the expression present in input field\n",
        " \n",
        "def bt_equal():\n",
        "    global expression\n",
        "    result = str(eval(expression)) # 'eval':This function is used to evaluates the string expression directly\n",
        "    input_text.set(result)\n",
        "    expression = \"\"\n",
        " \n",
        "expression = \"\"\n",
        " \n",
        "# 'StringVar()' :used to get the instance of input field\n",
        " \n",
        "input_text = StringVar()\n",
        " \n",
        "# creating a frame for the input field\n",
        " \n",
        "input_frame = Frame(win, width=312, height=50, bd=0, highlightbackground=\"black\", highlightcolor=\"black\", highlightthickness=2)\n",
        " \n",
        "input_frame.pack(side=TOP)\n",
        " \n",
        "#create a input field inside the 'Frame'\n",
        " \n",
        "input_field = Entry(input_frame, font=('arial', 18, 'bold'), textvariable=input_text, width=50, bg=\"#eee\", bd=0, justify=RIGHT)\n",
        " \n",
        "input_field.grid(row=0, column=0)\n",
        " \n",
        "input_field.pack(ipady=10)\n",
        " # 'ipady' is internal padding to increase the height of input field\n",
        " \n",
        "#creating another 'Frame' for the button below the 'input_frame'\n",
        " \n",
        "btns_frame = Frame(win, width=312, height=272.5, bg=\"grey\")\n",
        " \n",
        "btns_frame.pack()\n",
        " \n",
        "# first row\n",
        " \n",
        "clear = Button(btns_frame, text = \"C\", fg = \"black\", width = 32, height = 3, bd = 0, bg = \"#eee\", cursor = \"hand2\", command = lambda: bt_clear()).grid(row = 0, column = 0, columnspan = 3, padx = 1, pady = 1)\n",
        " \n",
        "divide = Button(btns_frame, text = \"/\", fg = \"black\", width = 10, height = 3, bd = 0, bg = \"#eee\", cursor = \"hand2\", command = lambda: btn_click(\"/\")).grid(row = 0, column = 3, padx = 1, pady = 1)\n",
        " \n",
        "# second row\n",
        " \n",
        "seven = Button(btns_frame, text = \"7\", fg = \"black\", width = 10, height = 3, bd = 0, bg = \"#fff\", cursor = \"hand2\", command = lambda: btn_click(7)).grid(row = 1, column = 0, padx = 1, pady = 1)\n",
        " \n",
        "eight = Button(btns_frame, text = \"8\", fg = \"black\", width = 10, height = 3, bd = 0, bg = \"#fff\", cursor = \"hand2\", command = lambda: btn_click(8)).grid(row = 1, column = 1, padx = 1, pady = 1)\n",
        " \n",
        "nine = Button(btns_frame, text = \"9\", fg = \"black\", width = 10, height = 3, bd = 0, bg = \"#fff\", cursor = \"hand2\", command = lambda: btn_click(9)).grid(row = 1, column = 2, padx = 1, pady = 1)\n",
        " \n",
        "multiply = Button(btns_frame, text = \"\", fg = \"black\", width = 10, height = 3, bd = 0, bg = \"#eee\", cursor = \"hand2\", command = lambda: btn_click(\"\")).grid(row = 1, column = 3, padx = 1, pady = 1)\n",
        " \n",
        "# third row\n",
        " \n",
        "four = Button(btns_frame, text = \"4\", fg = \"black\", width = 10, height = 3, bd = 0, bg = \"#fff\", cursor = \"hand2\", command = lambda: btn_click(4)).grid(row = 2, column = 0, padx = 1, pady = 1)\n",
        " \n",
        "five = Button(btns_frame, text = \"5\", fg = \"black\", width = 10, height = 3, bd = 0, bg = \"#fff\", cursor = \"hand2\", command = lambda: btn_click(5)).grid(row = 2, column = 1, padx = 1, pady = 1)\n",
        " \n",
        "six = Button(btns_frame, text = \"6\", fg = \"black\", width = 10, height = 3, bd = 0, bg = \"#fff\", cursor = \"hand2\", command = lambda: btn_click(6)).grid(row = 2, column = 2, padx = 1, pady = 1)\n",
        " \n",
        "minus = Button(btns_frame, text = \"-\", fg = \"black\", width = 10, height = 3, bd = 0, bg = \"#eee\", cursor = \"hand2\", command = lambda: btn_click(\"-\")).grid(row = 2, column = 3, padx = 1, pady = 1)\n",
        " \n",
        "# fourth row\n",
        " \n",
        "one = Button(btns_frame, text = \"1\", fg = \"black\", width = 10, height = 3, bd = 0, bg = \"#fff\", cursor = \"hand2\", command = lambda: btn_click(1)).grid(row = 3, column = 0, padx = 1, pady = 1)\n",
        " \n",
        "two = Button(btns_frame, text = \"2\", fg = \"black\", width = 10, height = 3, bd = 0, bg = \"#fff\", cursor = \"hand2\", command = lambda: btn_click(2)).grid(row = 3, column = 1, padx = 1, pady = 1)\n",
        " \n",
        "three = Button(btns_frame, text = \"3\", fg = \"black\", width = 10, height = 3, bd = 0, bg = \"#fff\", cursor = \"hand2\", command = lambda: btn_click(3)).grid(row = 3, column = 2, padx = 1, pady = 1)\n",
        " \n",
        "plus = Button(btns_frame, text = \"+\", fg = \"black\", width = 10, height = 3, bd = 0, bg = \"#eee\", cursor = \"hand2\", command = lambda: btn_click(\"+\")).grid(row = 3, column = 3, padx = 1, pady = 1)\n",
        " \n",
        "# fifth row\n",
        " \n",
        "zero = Button(btns_frame, text = \"0\", fg = \"black\", width = 21, height = 3, bd = 0, bg = \"#fff\", cursor = \"hand2\", command = lambda: btn_click(0)).grid(row = 4, column = 0, columnspan = 2, padx = 1, pady = 1)\n",
        " \n",
        "point = Button(btns_frame, text = \".\", fg = \"black\", width = 10, height = 3, bd = 0, bg = \"#eee\", cursor = \"hand2\", command = lambda: btn_click(\".\")).grid(row = 4, column = 2, padx = 1, pady = 1)\n",
        " \n",
        "equals = Button(btns_frame, text = \"=\", fg = \"black\", width = 10, height = 3, bd = 0, bg = \"#eee\", cursor = \"hand2\", command = lambda: bt_equal()).grid(row = 4, column = 3, padx = 1, pady = 1)\n",
        " \n",
        "win.mainloop()"
      ],
      "execution_count": null,
      "outputs": []
    },
    {
      "cell_type": "markdown",
      "metadata": {
        "id": "3N5lZtBAJso4"
      },
      "source": [
        " AIM:\n",
        " \n",
        "b. Write a program to implement the following figures using turtle\n",
        " \n",
        "DESCRIPTION:\n",
        "The turtle module is an extended reimplementation of the same-named module from the Python \n",
        "standard distribution up to version Python 2.5.\n",
        "It tries to keep the merits of the old turtle module and to be (nearly) 100% compatible with it. \n",
        "This means in the first place to enable the learning programmer to use all the commands, \n",
        "classes and methods interactively when using the module from within IDLE run with the -n \n",
        "switch.\n",
        "The turtle module provides turtle graphics primitives, in both object-oriented and procedure￾oriented ways. Because it uses tkinter for the underlying graphics, it needs a version of Python installed with Tk support"
      ]
    },
    {
      "cell_type": "code",
      "metadata": {
        "id": "MhcC-HXySfnA"
      },
      "source": [
        " \n",
        "#14B FIGURE1.\n",
        "import turtle\n",
        "c=[\"red\",\"green\",\"blue\"]\n",
        "i=0\n",
        "turtle.pensize(5)\n",
        " \n",
        "for angle in range(0,360,30):\n",
        "    if i>2:\n",
        "        i=0\n",
        "    turtle.color(c[i])\n",
        "    turtle.seth(angle)\n",
        "    turtle.circle(50)\n",
        "    i+=1"
      ],
      "execution_count": null,
      "outputs": []
    },
    {
      "cell_type": "code",
      "metadata": {
        "id": "k-e5SZOISpFi"
      },
      "source": [
        " \n",
        "#14B FIGURE2.\n",
        "import turtle\n",
        "turtle.pensize(1)\n",
        " \n",
        "for i in range(36):\n",
        "    for j in range(4):\n",
        "        turtle.forward(70)\n",
        "        turtle.left(90)\n",
        "    turtle.left(10)"
      ],
      "execution_count": null,
      "outputs": []
    },
    {
      "cell_type": "markdown",
      "metadata": {
        "id": "lG4-xJsCSqSK"
      },
      "source": [
        " EXERCISE - 15 - TESTING\n",
        "________________________________________\n",
        "AIM:\n",
        "a) Write a test-case to check the function even numbers which return True on passing a list of \n",
        "all even numbers\n",
        " \n",
        "Description:TestCase is used to create test cases by subclassing it. The last block of the code at the bottom \n",
        "allows us to run all the tests just by running the file. Basic terms used in the code : assertEqual()\n",
        "– This statement is used to check if the result obtained is equal to the expected result\n",
        "test case:\n",
        "A test case is a set of conditions which is used to determine whether a system under test works \n",
        "correctly."
      ]
    },
    {
      "cell_type": "code",
      "metadata": {
        "colab": {
          "base_uri": "https://localhost:8080/"
        },
        "id": "-DPC6HX-SuZk",
        "outputId": "42b721d5-75e6-4304-ba00-f77cb1715388"
      },
      "source": [
        " \n",
        "#15A)\n",
        "def evnNo(num):\n",
        "    stat=True\n",
        " \n",
        "    for i in num:\n",
        "        if i%2 ==1:\n",
        "            stat=False\n",
        "            break\n",
        "    return stat\n",
        "        \n",
        "numbers=[]\n",
        "for i in range(0,2):\n",
        "    numbers.append(int(input(\"Enter a value\")))\n",
        "print(evnNo(numbers))"
      ],
      "execution_count": null,
      "outputs": [
        {
          "output_type": "stream",
          "text": [
            "Enter a value4\n",
            "Enter a value4\n",
            "True\n"
          ],
          "name": "stdout"
        }
      ]
    },
    {
      "cell_type": "markdown",
      "metadata": {
        "id": "GYlpEkuXKbtL"
      },
      "source": [
        " AIM:\n",
        "\n",
        "b) Write a test-case to check the function reverse string which returns the reversed string \n",
        "\n",
        "DESCRIPTION:\n",
        "Python string library does’nt support the in-built “reverse()” as done by other python containers \n",
        "like list, hence knowing other methods to reverse string can prove to be useful. This article\n",
        "discusses several ways to achieve it.\n",
        "The reversed() returns the reversed iterator of the given string and then its elements are joined\n",
        "empty string separated using join(). And reversed order string is formed"
      ]
    },
    {
      "cell_type": "code",
      "metadata": {
        "colab": {
          "base_uri": "https://localhost:8080/"
        },
        "id": "BxPWWgMkTHt_",
        "outputId": "65c0b074-9517-4008-ffcf-49046d007b46"
      },
      "source": [
        " \n",
        "#15B.\n",
        "def rev_str(st):\n",
        "  temp=\"\"\n",
        "  for i in range(len(st)-1,-1,-1):\n",
        "     temp+=st[i]\n",
        "  return temp\n",
        "st=\"Swarnandra \"\n",
        "print(\"given string is\",st)\n",
        "print(\"reverse string is:\",rev_str(st))"
      ],
      "execution_count": null,
      "outputs": [
        {
          "output_type": "stream",
          "text": [
            "given string is Swarnandra \n",
            "reverse string is:  ardnanrawS\n"
          ],
          "name": "stdout"
        }
      ]
    },
    {
      "cell_type": "markdown",
      "metadata": {
        "id": "ka5dVCiTTOZv"
      },
      "source": [
        " EXERCISE-16:ADVANCED\n",
        " \n",
        "A) BUILD ANY ONE CLASSICAL DATA STRUCTURE.\n",
        " \n",
        "AIM:\n",
        "a) Build any one classical data structure.\n",
        "\n",
        "DESCRIPTION:\n",
        "What is a Data Structure?\n",
        "Organizing, managing and storing data is important as it enables easier access and eficient\n",
        "modifications. Data Structures allows you to organize your data in such a way that enables you \n",
        "to store collections of data, relate them and perform operations on them accordingly.\n",
        "Stack Stacks are linear Data Structures which are based on the principle of Last-In-First-Out\n",
        "(LIFO) where data which is entered last will be the first to get accessed. It is built using the array \n",
        "structure and has operations namely, pushing (adding) elements, popping (deleting) elements \n",
        "and accessing elements only from one point in the stack called as the TOP. This TOP is the \n",
        "pointer to the current position of the stack. Stacks are prominently used in applications such as \n",
        "Recursive Programming, reversing words, undo mechanisms in word editors and so forth."
      ]
    },
    {
      "cell_type": "code",
      "metadata": {
        "colab": {
          "base_uri": "https://localhost:8080/",
          "height": 557
        },
        "id": "PBN9gV2ATRDq",
        "outputId": "67a637ef-c281-4698-9989-5072015cb936"
      },
      "source": [
        " \n",
        "#16A.\n",
        "import sys\n",
        "a=[]\n",
        " \n",
        "while True:\n",
        "  print (\"\\nl.PUSH 2.POP 3.DISPLAY 4.EXIT\")\n",
        "  ch=int(input(\"Enter Your Choice: \"))\n",
        "  if ch==1:\n",
        "   ele=int(input(\"Enter element: \"))\n",
        "   a.append(ele)\n",
        "   print(\"Inserted\")\n",
        "  elif ch==2:\n",
        "   if len(a)==0:\n",
        "     print (\"\\t STACK IS EMPTY\")\n",
        "   else:\n",
        "     print (\"Deleted element is: \",a[len(a)-1])\n",
        "     a.remove(a[len(a)-1])\n",
        "  elif ch==3:\n",
        "   if len(a)==0:\n",
        "     print (\"\\t STACK IS EMPTY\")\n",
        "   else:\n",
        "    print (\"The Elements in Stack is: \")\n",
        "    for i in reversed(a):\n",
        "       print(i)\n",
        "  elif ch==4:\n",
        "    sys.exit()\n",
        "  else:\n",
        "   print (\"\\tINVALID CHOICE\")"
      ],
      "execution_count": null,
      "outputs": [
        {
          "output_type": "stream",
          "text": [
            "\n",
            "l.PUSH 2.POP 3.DISPLAY 4.EXIT\n",
            "Enter Your Choice: 1\n",
            "Enter element: 57\n",
            "Inserted\n",
            "\n",
            "l.PUSH 2.POP 3.DISPLAY 4.EXIT\n",
            "Enter Your Choice: 1\n",
            "Enter element: 45\n",
            "Inserted\n",
            "\n",
            "l.PUSH 2.POP 3.DISPLAY 4.EXIT\n",
            "Enter Your Choice: 2\n",
            "Deleted element is:  45\n",
            "\n",
            "l.PUSH 2.POP 3.DISPLAY 4.EXIT\n",
            "Enter Your Choice: 3\n",
            "The Elements in Stack is: \n",
            "57\n",
            "\n",
            "l.PUSH 2.POP 3.DISPLAY 4.EXIT\n",
            "Enter Your Choice: 4\n"
          ],
          "name": "stdout"
        },
        {
          "output_type": "error",
          "ename": "SystemExit",
          "evalue": "ignored",
          "traceback": [
            "An exception has occurred, use %tb to see the full traceback.\n",
            "\u001b[0;31mSystemExit\u001b[0m\n"
          ]
        },
        {
          "output_type": "stream",
          "text": [
            "/usr/local/lib/python3.7/dist-packages/IPython/core/interactiveshell.py:2890: UserWarning: To exit: use 'exit', 'quit', or Ctrl-D.\n",
            "  warn(\"To exit: use 'exit', 'quit', or Ctrl-D.\", stacklevel=1)\n"
          ],
          "name": "stderr"
        }
      ]
    },
    {
      "cell_type": "markdown",
      "metadata": {
        "id": "1R70UdBYK7lo"
      },
      "source": [
        "AIM:\n",
        " \n",
        "Enter Element: 16\n",
        " \n",
        "b) Write a program to solve knapsack\n",
        "problem\n",
        " \n",
        "DESCRIPTION:\n",
        "Python Program for 0\n",
        "-1 Knapsack Problem\n",
        "Problem statement − We are given weights and values of n items, we need to put these items in \n",
        "a bag of capacity W up to the maximum capacity w. We need to carry a maximum number of\n",
        "items and return its \n",
        "value. Brute\n",
        "-force approach \n",
        " \n",
        "Dynamic approach"
      ]
    },
    {
      "cell_type": "code",
      "metadata": {
        "colab": {
          "base_uri": "https://localhost:8080/"
        },
        "id": "3CNRNR0lUKN7",
        "outputId": "c1acc294-529b-4154-f5db-f842958bb79a"
      },
      "source": [
        " \n",
        "#16B.\n",
        "def knapSack(W, wt, val, n):\n",
        "   K= [[0 for x in range(W+1)] for x in range(n+1)]\n",
        "   for i in range(n+1):\n",
        "     for w in range(W+1):\n",
        "       if i==0 or w==0:\n",
        "          K[i][w] = 0\n",
        "       elif wt[i-1]<=w:\n",
        "          K[i][w]= max(val[i-1]+K[i-1][w-wt[i-1]],K[i-1][w])\n",
        "       else:\n",
        "          K[i][w] = K[i-1][w]\n",
        "   return K[n][W]\n",
        "val = [5, 3, 4]\n",
        "wt = [3, 2, 1]\n",
        "W = 5\n",
        "n= len(val)\n",
        "print(\"Maximum value knapsack of capacity W: \", knapSack(W, wt,val,n))"
      ],
      "execution_count": null,
      "outputs": [
        {
          "output_type": "stream",
          "text": [
            "Maximum value knapsack of capacity W:  9\n"
          ],
          "name": "stdout"
        }
      ]
    },
    {
      "cell_type": "markdown",
      "metadata": {
        "id": "fwF8aAcVUSMO"
      },
      "source": [
        " EXERCISE 17 & 18-DATA ANALYSIS\n",
        " \n",
        "DATA ANALYSIS OR MANIPULATION USING THE FOLLOWING PACKAGES\n",
        " \n",
        "A) NUMPY  B) PANDAS\n",
        " \n",
        " \n",
        "A) SCIPY  B) MATPLOTLIB\n",
        " \n",
        "AIM:\n",
        "1. Data analysis or manipulation using the following packages\n",
        "a) Numpy b) Pandas a) Scipy b) matplotlib\n",
        " \n",
        "DESCRIPTION:\n",
        "Learn how to analyze data using Python..... It includes following parts: Data Analysis libraries:\n",
        "will learn to use Pandas, Numpy and Scipy libraries to work with a sample dataset. We will\n",
        "introduce you to pandas, an open-source library, and we will use it to load, manipulate, analyze, \n",
        "and visualize cool datasets.\n",
        "SciPy is a free and open-source Python library used for scientific computing and technical \n",
        "computing. It is a collection of mathematical algorithms and convenience functions built on the \n",
        "NumPy extension of Python\n",
        "NumPy is the fundamental package for scientific computing in Python. ....NumPy arrays\n",
        "facilitate advanced mathematical and other types of operations on large numbers of data.\n",
        "Matplotlib is a plotting library for the Python programming language and its numerical\n",
        "mathematics extension NumPy. It provides an object-oriented API for embedding plots into \n",
        "applications using general-purpose GUI toolkits like Tkinter, wxPython, Qt, or GTK\n",
        "Pandas is an open source Python package that is most widely used for data science/data \n",
        "analysis and machine learning tasks. It is built on top of another package named Numpy, which \n",
        "provides support for multi-dimensional arrays.\n",
        "Scikit-learn is probably the most useful library for machine learning in Python. The sklearn\n",
        "library contains a lot of eficient tools for machine learning and statistical modeling including \n",
        "classification, regression, clustering and dimensionality reduction.\n",
        "Seaborn is a library in Python predominantly used for making statistical graphics. Seaborn is a \n",
        "data visualization library built on top of matplotlib and closely integrated with pandas data \n",
        "structures in Python"
      ]
    },
    {
      "cell_type": "code",
      "metadata": {
        "colab": {
          "base_uri": "https://localhost:8080/"
        },
        "id": "qdoArD3nUUQE",
        "outputId": "05cb6fcf-4116-4f0d-df4c-5486a752c438"
      },
      "source": [
        " \n",
        "#17 & 18.\n",
        " \n",
        "#Python version\n",
        "import sys\n",
        "print('Python: {}'.format(sys.version))\n",
        " \n",
        "#scipy\n",
        "import scipy\n",
        "print('scipy: {}'.format(scipy.__version__))\n",
        " \n",
        "# numpy\n",
        "import numpy\n",
        "print( 'numpy: {}'.format(numpy.__version__))\n",
        " \n",
        "# matplotlib\n",
        "import matplotlib\n",
        "print('matplotlib: {}'.format(matplotlib.__version__))\n",
        " \n",
        "# pandas\n",
        "import pandas\n",
        "print('pandas: {}'.format(pandas.__version__))\n",
        " \n",
        "#scikit-learn\n",
        "import sklearn\n",
        "print('sklearn: {}'.format(sklearn.__version__))\n",
        "import seaborn\n",
        "print('seaborn: {}'.format(seaborn.__version__))\n",
        "import urllib\n",
        "print('urlib: {}'.format(urllib.__name__))\n",
        "import csv\n",
        "print('csv: {}'.format(csv.__version__))"
      ],
      "execution_count": null,
      "outputs": [
        {
          "output_type": "stream",
          "text": [
            "Python: 3.7.11 (default, Jul  3 2021, 18:01:19) \n",
            "[GCC 7.5.0]\n",
            "scipy: 1.4.1\n",
            "numpy: 1.19.5\n",
            "matplotlib: 3.2.2\n",
            "pandas: 1.1.5\n",
            "sklearn: 0.22.2.post1\n",
            "seaborn: 0.11.1\n",
            "urlib: urllib\n",
            "csv: 1.0\n"
          ],
          "name": "stdout"
        }
      ]
    }
  ]
}